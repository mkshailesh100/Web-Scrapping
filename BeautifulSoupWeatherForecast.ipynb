{
  "nbformat": 4,
  "nbformat_minor": 0,
  "metadata": {
    "colab": {
      "name": "BeautifulSoupWeatherForecast.ipynb",
      "provenance": []
    },
    "kernelspec": {
      "name": "python3",
      "display_name": "Python 3"
    }
  },
  "cells": [
    {
      "cell_type": "code",
      "metadata": {
        "colab": {
          "base_uri": "https://localhost:8080/"
        },
        "id": "Xx7KuLg_J9_6",
        "outputId": "136f3cb2-3e8e-4b59-e241-ea0b4e5cd01c"
      },
      "source": [
        "import requests\r\n",
        "page = requests.get(\"http://dataquestio.github.io/web-scraping-pages/simple.html\")\r\n",
        "page"
      ],
      "execution_count": 1,
      "outputs": [
        {
          "output_type": "execute_result",
          "data": {
            "text/plain": [
              "<Response [200]>"
            ]
          },
          "metadata": {
            "tags": []
          },
          "execution_count": 1
        }
      ]
    },
    {
      "cell_type": "code",
      "metadata": {
        "colab": {
          "base_uri": "https://localhost:8080/"
        },
        "id": "YUBhR5lWKAV2",
        "outputId": "37a9edf3-b727-48e7-817d-d109b590b206"
      },
      "source": [
        "page.status_code"
      ],
      "execution_count": 2,
      "outputs": [
        {
          "output_type": "execute_result",
          "data": {
            "text/plain": [
              "200"
            ]
          },
          "metadata": {
            "tags": []
          },
          "execution_count": 2
        }
      ]
    },
    {
      "cell_type": "code",
      "metadata": {
        "colab": {
          "base_uri": "https://localhost:8080/"
        },
        "id": "Ft77j7GqKH6s",
        "outputId": "481297a5-dc5b-4dc9-9aa8-8e060a541f84"
      },
      "source": [
        "page.content"
      ],
      "execution_count": 3,
      "outputs": [
        {
          "output_type": "execute_result",
          "data": {
            "text/plain": [
              "b'<!DOCTYPE html>\\n<html>\\n    <head>\\n        <title>A simple example page</title>\\n    </head>\\n    <body>\\n        <p>Here is some simple content for this page.</p>\\n    </body>\\n</html>'"
            ]
          },
          "metadata": {
            "tags": []
          },
          "execution_count": 3
        }
      ]
    },
    {
      "cell_type": "code",
      "metadata": {
        "id": "IxTJNeN1KI-N"
      },
      "source": [
        "from bs4 import BeautifulSoup"
      ],
      "execution_count": 4,
      "outputs": []
    },
    {
      "cell_type": "code",
      "metadata": {
        "id": "14Rv9BPLKb1B"
      },
      "source": [
        "soup = BeautifulSoup(page.content,'html.parser')"
      ],
      "execution_count": 5,
      "outputs": []
    },
    {
      "cell_type": "code",
      "metadata": {
        "colab": {
          "base_uri": "https://localhost:8080/"
        },
        "id": "FEk3-wr4KjpF",
        "outputId": "a522f1a6-07be-46ea-a98b-05af3cf78e53"
      },
      "source": [
        "soup"
      ],
      "execution_count": 6,
      "outputs": [
        {
          "output_type": "execute_result",
          "data": {
            "text/plain": [
              "<!DOCTYPE html>\n",
              "\n",
              "<html>\n",
              "<head>\n",
              "<title>A simple example page</title>\n",
              "</head>\n",
              "<body>\n",
              "<p>Here is some simple content for this page.</p>\n",
              "</body>\n",
              "</html>"
            ]
          },
          "metadata": {
            "tags": []
          },
          "execution_count": 6
        }
      ]
    },
    {
      "cell_type": "code",
      "metadata": {
        "colab": {
          "base_uri": "https://localhost:8080/"
        },
        "id": "q6fu1QcPKmXn",
        "outputId": "ceb45d39-bd02-4f47-e419-250402c372d5"
      },
      "source": [
        "print(soup.prettify())"
      ],
      "execution_count": 7,
      "outputs": [
        {
          "output_type": "stream",
          "text": [
            "<!DOCTYPE html>\n",
            "<html>\n",
            " <head>\n",
            "  <title>\n",
            "   A simple example page\n",
            "  </title>\n",
            " </head>\n",
            " <body>\n",
            "  <p>\n",
            "   Here is some simple content for this page.\n",
            "  </p>\n",
            " </body>\n",
            "</html>\n"
          ],
          "name": "stdout"
        }
      ]
    },
    {
      "cell_type": "code",
      "metadata": {
        "colab": {
          "base_uri": "https://localhost:8080/"
        },
        "id": "NzBYNzyRK1ca",
        "outputId": "8c739545-185e-4f0e-cb71-dbfb2c9cc826"
      },
      "source": [
        "soup.children"
      ],
      "execution_count": 8,
      "outputs": [
        {
          "output_type": "execute_result",
          "data": {
            "text/plain": [
              "<list_iterator at 0x7f59455e6e10>"
            ]
          },
          "metadata": {
            "tags": []
          },
          "execution_count": 8
        }
      ]
    },
    {
      "cell_type": "code",
      "metadata": {
        "colab": {
          "base_uri": "https://localhost:8080/"
        },
        "id": "7b8HFo5eK_qm",
        "outputId": "e9f27ed0-af20-4cd3-a4ae-8dc21d3b1584"
      },
      "source": [
        "list(soup.children)"
      ],
      "execution_count": 9,
      "outputs": [
        {
          "output_type": "execute_result",
          "data": {
            "text/plain": [
              "['html', '\\n', <html>\n",
              " <head>\n",
              " <title>A simple example page</title>\n",
              " </head>\n",
              " <body>\n",
              " <p>Here is some simple content for this page.</p>\n",
              " </body>\n",
              " </html>]"
            ]
          },
          "metadata": {
            "tags": []
          },
          "execution_count": 9
        }
      ]
    },
    {
      "cell_type": "code",
      "metadata": {
        "colab": {
          "base_uri": "https://localhost:8080/"
        },
        "id": "VKkRpHdnLCg1",
        "outputId": "74eb5bf7-c27d-4408-e17c-ae46631142bc"
      },
      "source": [
        "[type(item) for item in list(soup.children)]"
      ],
      "execution_count": 10,
      "outputs": [
        {
          "output_type": "execute_result",
          "data": {
            "text/plain": [
              "[bs4.element.Doctype, bs4.element.NavigableString, bs4.element.Tag]"
            ]
          },
          "metadata": {
            "tags": []
          },
          "execution_count": 10
        }
      ]
    },
    {
      "cell_type": "code",
      "metadata": {
        "colab": {
          "base_uri": "https://localhost:8080/"
        },
        "id": "tZm4wjZELVUH",
        "outputId": "d937e8dd-cf11-42dd-dd95-796ea903f943"
      },
      "source": [
        "html=list(soup.children)[2]\r\n",
        "html"
      ],
      "execution_count": 11,
      "outputs": [
        {
          "output_type": "execute_result",
          "data": {
            "text/plain": [
              "<html>\n",
              "<head>\n",
              "<title>A simple example page</title>\n",
              "</head>\n",
              "<body>\n",
              "<p>Here is some simple content for this page.</p>\n",
              "</body>\n",
              "</html>"
            ]
          },
          "metadata": {
            "tags": []
          },
          "execution_count": 11
        }
      ]
    },
    {
      "cell_type": "code",
      "metadata": {
        "colab": {
          "base_uri": "https://localhost:8080/"
        },
        "id": "GvaWwGFWL0Cp",
        "outputId": "a4adfc47-e79b-4c1f-cd71-72163a085028"
      },
      "source": [
        "html.children"
      ],
      "execution_count": 12,
      "outputs": [
        {
          "output_type": "execute_result",
          "data": {
            "text/plain": [
              "<list_iterator at 0x7f593da91dd8>"
            ]
          },
          "metadata": {
            "tags": []
          },
          "execution_count": 12
        }
      ]
    },
    {
      "cell_type": "code",
      "metadata": {
        "colab": {
          "base_uri": "https://localhost:8080/"
        },
        "id": "aLJBXHdhL4RI",
        "outputId": "8bdfc5d9-8e58-4922-9b0d-576c5093c32c"
      },
      "source": [
        "list(html.children)"
      ],
      "execution_count": 13,
      "outputs": [
        {
          "output_type": "execute_result",
          "data": {
            "text/plain": [
              "['\\n', <head>\n",
              " <title>A simple example page</title>\n",
              " </head>, '\\n', <body>\n",
              " <p>Here is some simple content for this page.</p>\n",
              " </body>, '\\n']"
            ]
          },
          "metadata": {
            "tags": []
          },
          "execution_count": 13
        }
      ]
    },
    {
      "cell_type": "code",
      "metadata": {
        "colab": {
          "base_uri": "https://localhost:8080/"
        },
        "id": "MbV-wpCSL7lg",
        "outputId": "e70f346d-4008-4567-f05e-b03ce7637a11"
      },
      "source": [
        "body=list(html.children)[3]\r\n",
        "body"
      ],
      "execution_count": 16,
      "outputs": [
        {
          "output_type": "execute_result",
          "data": {
            "text/plain": [
              "<body>\n",
              "<p>Here is some simple content for this page.</p>\n",
              "</body>"
            ]
          },
          "metadata": {
            "tags": []
          },
          "execution_count": 16
        }
      ]
    },
    {
      "cell_type": "code",
      "metadata": {
        "colab": {
          "base_uri": "https://localhost:8080/"
        },
        "id": "HXhLvatUMS6U",
        "outputId": "92b511cf-6723-4e79-f6da-d0ba33dd99a5"
      },
      "source": [
        "p=list(body.children)[1]\r\n",
        "p"
      ],
      "execution_count": 18,
      "outputs": [
        {
          "output_type": "execute_result",
          "data": {
            "text/plain": [
              "<p>Here is some simple content for this page.</p>"
            ]
          },
          "metadata": {
            "tags": []
          },
          "execution_count": 18
        }
      ]
    },
    {
      "cell_type": "code",
      "metadata": {
        "colab": {
          "base_uri": "https://localhost:8080/",
          "height": 35
        },
        "id": "iR19KCGoMhng",
        "outputId": "0a767d02-8faa-4cd9-c822-9b2a5c122435"
      },
      "source": [
        "p.get_text()"
      ],
      "execution_count": 19,
      "outputs": [
        {
          "output_type": "execute_result",
          "data": {
            "application/vnd.google.colaboratory.intrinsic+json": {
              "type": "string"
            },
            "text/plain": [
              "'Here is some simple content for this page.'"
            ]
          },
          "metadata": {
            "tags": []
          },
          "execution_count": 19
        }
      ]
    },
    {
      "cell_type": "code",
      "metadata": {
        "colab": {
          "base_uri": "https://localhost:8080/"
        },
        "id": "Movn6UtMMl-a",
        "outputId": "bbe85ff4-1907-41fc-baf0-fad207d96b1c"
      },
      "source": [
        "soup=BeautifulSoup(page.content,'html.parser')\r\n",
        "p=soup.find_all('p')\r\n",
        "p"
      ],
      "execution_count": 21,
      "outputs": [
        {
          "output_type": "execute_result",
          "data": {
            "text/plain": [
              "[<p>Here is some simple content for this page.</p>]"
            ]
          },
          "metadata": {
            "tags": []
          },
          "execution_count": 21
        }
      ]
    },
    {
      "cell_type": "code",
      "metadata": {
        "colab": {
          "base_uri": "https://localhost:8080/"
        },
        "id": "gHQUqcY7NRjs",
        "outputId": "1003eca3-5ca0-4519-895a-1d2656cf1638"
      },
      "source": [
        "p[0]"
      ],
      "execution_count": 23,
      "outputs": [
        {
          "output_type": "execute_result",
          "data": {
            "text/plain": [
              "<p>Here is some simple content for this page.</p>"
            ]
          },
          "metadata": {
            "tags": []
          },
          "execution_count": 23
        }
      ]
    },
    {
      "cell_type": "code",
      "metadata": {
        "colab": {
          "base_uri": "https://localhost:8080/",
          "height": 35
        },
        "id": "hatLdH_LNqXr",
        "outputId": "18799e37-481f-4772-8103-66f48e1f1203"
      },
      "source": [
        "p[0].get_text()"
      ],
      "execution_count": 24,
      "outputs": [
        {
          "output_type": "execute_result",
          "data": {
            "application/vnd.google.colaboratory.intrinsic+json": {
              "type": "string"
            },
            "text/plain": [
              "'Here is some simple content for this page.'"
            ]
          },
          "metadata": {
            "tags": []
          },
          "execution_count": 24
        }
      ]
    },
    {
      "cell_type": "code",
      "metadata": {
        "colab": {
          "base_uri": "https://localhost:8080/",
          "height": 35
        },
        "id": "WBKbGACaNsKB",
        "outputId": "cbc66f6a-602f-4f74-cea9-57d2ea907196"
      },
      "source": [
        "soup=BeautifulSoup(page.content,'html.parser')\r\n",
        "soup.find_all('p')[0].get_text()"
      ],
      "execution_count": 25,
      "outputs": [
        {
          "output_type": "execute_result",
          "data": {
            "application/vnd.google.colaboratory.intrinsic+json": {
              "type": "string"
            },
            "text/plain": [
              "'Here is some simple content for this page.'"
            ]
          },
          "metadata": {
            "tags": []
          },
          "execution_count": 25
        }
      ]
    },
    {
      "cell_type": "code",
      "metadata": {
        "colab": {
          "base_uri": "https://localhost:8080/"
        },
        "id": "1_e36pgUN0dV",
        "outputId": "c012dceb-35cc-4eee-8f4c-2451fab17a61"
      },
      "source": [
        "page = requests.get(\"http://forecast.weather.gov/MapClick.php?lat=37.7772&lon=-122.4168\")\r\n",
        "soup = BeautifulSoup(page.content, 'html.parser')\r\n",
        "soup"
      ],
      "execution_count": 26,
      "outputs": [
        {
          "output_type": "execute_result",
          "data": {
            "text/plain": [
              "<!DOCTYPE html>\n",
              "\n",
              "<html class=\"no-js\">\n",
              "<head>\n",
              "<!-- Meta -->\n",
              "<meta content=\"width=device-width\" name=\"viewport\"/>\n",
              "<link href=\"http://purl.org/dc/elements/1.1/\" rel=\"schema.DC\"/><title>National Weather Service</title><meta content=\"National Weather Service\" name=\"DC.title\"><meta content=\"NOAA National Weather Service National Weather Service\" name=\"DC.description\"/><meta content=\"US Department of Commerce, NOAA, National Weather Service\" name=\"DC.creator\"/><meta content=\"\" name=\"DC.date.created\" scheme=\"ISO8601\"/><meta content=\"EN-US\" name=\"DC.language\" scheme=\"DCTERMS.RFC1766\"/><meta content=\"weather, National Weather Service\" name=\"DC.keywords\"/><meta content=\"NOAA's National Weather Service\" name=\"DC.publisher\"/><meta content=\"National Weather Service\" name=\"DC.contributor\"/><meta content=\"http://www.weather.gov/disclaimer.php\" name=\"DC.rights\"/><meta content=\"General\" name=\"rating\"/><meta content=\"index,follow\" name=\"robots\"/>\n",
              "<!-- Icons -->\n",
              "<link href=\"./images/favicon.ico\" rel=\"shortcut icon\" type=\"image/x-icon\"/>\n",
              "<!-- CSS -->\n",
              "<link href=\"css/bootstrap-3.2.0.min.css\" rel=\"stylesheet\"/>\n",
              "<link href=\"css/bootstrap-theme-3.2.0.min.css\" rel=\"stylesheet\"/>\n",
              "<link href=\"css/font-awesome-4.3.0.min.css\" rel=\"stylesheet\"/>\n",
              "<link href=\"css/ol-4.6.4.css\" rel=\"stylesheet\" type=\"text/css\"/>\n",
              "<link href=\"css/mapclick.css\" rel=\"stylesheet\" type=\"text/css\">\n",
              "<!--[if lte IE 7]><link rel=\"stylesheet\" type=\"text/css\" href=\"css/bootstrap-ie7.css\" /><![endif]-->\n",
              "<!--[if lte IE 9]><link rel=\"stylesheet\" type=\"text/css\" href=\"css/mapclick-ie.css\" /><![endif]-->\n",
              "<link href=\"css/print.css\" rel=\"stylesheet\" type=\"text/css\">\n",
              "<link href=\"css/search.css\" rel=\"stylesheet\" type=\"text/css\">\n",
              "<!-- Javascript -->\n",
              "<script src=\"js/lib/modernizr-2.8.3.js\" type=\"text/javascript\"></script>\n",
              "<script src=\"js/lib/json3-3.3.2.min.js\" type=\"text/javascript\"></script>\n",
              "<script src=\"js/lib/jquery-1.11.3.min.js\" type=\"text/javascript\"></script>\n",
              "<script src=\"js/lib/jquery.hoverIntent-1.8.1.min.js\" type=\"text/javascript\"></script>\n",
              "<script src=\"js/lib/bootstrap-3.2.0.min.js\" type=\"text/javascript\"></script>\n",
              "<script src=\"js/lib/ol-4.6.4.js\" type=\"text/javascript\"></script>\n",
              "<!--[if lte IE 8]><script type=\"text/javascript\" src=\"js/respond.min.js\"></script><![endif]-->\n",
              "<script src=\"js/jquery.autocomplete.min.js\" type=\"text/javascript\"></script>\n",
              "<script src=\"js/cfisurvey/cfi.js?v2\" type=\"text/javascript\"></script>\n",
              "<script src=\"js/forecast.esri.js\" type=\"text/javascript\"></script>\n",
              "<script src=\"js/forecast.search.js\" type=\"text/javascript\"></script>\n",
              "<script src=\"js/forecast.openlayers.js\" type=\"text/javascript\"></script>\n",
              "<script src=\"js/browserSniffer.js\" type=\"text/javascript\"></script>\n",
              "<script src=\"js/federated-analytics.js\" type=\"text/javascript\"></script>\n",
              "<script type=\"javascript\">\n",
              "// ForeSee Staging Embed Script v2.01\n",
              "// DO NOT MODIFY BELOW THIS LINE *****************************************\n",
              ";(function (g) {\n",
              "  var d = document, am = d.createElement('script'), h = d.head || d.getElementsByTagName(\"head\")[0], fsr = 'fsReady',\n",
              "  aex = { \n",
              "    \"src\": \"//gateway.foresee.com/sites/weather-gov/production/gateway.min.js\",\n",
              "    \"type\": \"text/javascript\", \n",
              "    \"async\": \"true\", \n",
              "    \"data-vendor\": \"fs\", \n",
              "    \"data-role\": \"gateway\" \n",
              "  };\n",
              "  for (var attr in aex) { am.setAttribute(attr, aex[attr]); } h.appendChild(am); g[fsr] || (g[fsr] = function () { var aT = '__' + fsr + '_stk__'; g[aT] = g[aT] || []; g[aT].push(arguments); });\n",
              "})(window);\n",
              "// DO NOT MODIFY ABOVE THIS LINE *****************************************\n",
              "</script>\n",
              "<script type=\"text/javascript\">\n",
              "            (function (i, s, o, g, r, a, m) {\n",
              "                i['GoogleAnalyticsObject'] = r;\n",
              "                i[r] = i[r] || function () {\n",
              "                    (i[r].q = i[r].q || []).push(arguments)\n",
              "                }, i[r].l = 1 * new Date();\n",
              "                a = s.createElement(o),\n",
              "                        m = s.getElementsByTagName(o)[0];\n",
              "                a.async = 1;\n",
              "                a.src = g;\n",
              "                m.parentNode.insertBefore(a, m)\n",
              "            })(window, document, 'script', '//www.google-analytics.com/analytics.js', 'ga');\n",
              "\n",
              "            ga('create', 'UA-40768555-1', 'weather.gov', {'sampleRate': 6});\n",
              "            ga('set', 'anonymizeIp', true);\n",
              "            ga('require', 'linkid');\n",
              "            ga('send', 'pageview');\n",
              "        </script>\n",
              "</link></link></link></meta></head>\n",
              "<body>\n",
              "<main class=\"container\">\n",
              "<header class=\"row clearfix\" id=\"page-header\">\n",
              "<a class=\"pull-left\" href=\"http://www.noaa.gov\" id=\"header-noaa\"><img alt=\"National Oceanic and Atmospheric Administration\" src=\"/css/images/header_noaa.png\"/></a>\n",
              "<a class=\"pull-left\" href=\"http://www.weather.gov\" id=\"header-nws\"><img alt=\"National Weather Service\" src=\"/css/images/header_nws.png\"/></a>\n",
              "<a class=\"pull-right\" href=\"http://www.commerce.gov\" id=\"header-doc\"><img alt=\"United States Department of Commerce\" src=\"/css/images/header_doc.png\"/></a>\n",
              "</header>\n",
              "<nav class=\"navbar navbar-default row\" role=\"navigation\">\n",
              "<div class=\"container-fluid\">\n",
              "<div class=\"navbar-header\">\n",
              "<button class=\"navbar-toggle collapsed\" data-target=\"#top-nav\" data-toggle=\"collapse\" type=\"button\">\n",
              "<span class=\"sr-only\">Toggle navigation</span>\n",
              "<span class=\"icon-bar\"></span>\n",
              "<span class=\"icon-bar\"></span>\n",
              "<span class=\"icon-bar\"></span>\n",
              "</button>\n",
              "</div>\n",
              "<div class=\"collapse navbar-collapse\" id=\"top-nav\">\n",
              "<ul class=\"nav navbar-nav\">\n",
              "<li><a href=\"http://www.weather.gov\">HOME</a></li>\n",
              "<li class=\"dropdown\"><a class=\"dropdown-toggle\" data-toggle=\"dropdown\" href=\"http://www.weather.gov/forecastmaps\">FORECAST <span class=\"caret\"></span></a><ul class=\"dropdown-menu\" role=\"menu\"><li><a href=\"http://www.weather.gov\">Local</a></li><li><a href=\"http://digital.weather.gov\">Graphical</a></li><li><a href=\"http://www.aviationweather.gov/\">Aviation</a></li><li><a href=\"http://www.nws.noaa.gov/om/marine/home.htm\">Marine</a></li><li><a href=\"http://water.weather.gov/ahps/\">Rivers and Lakes</a></li><li><a href=\"http://www.nhc.noaa.gov/\">Hurricanes</a></li><li><a href=\"http://www.spc.noaa.gov/\">Severe Weather</a></li><li><a href=\"http://www.weather.gov/fire/\">Fire Weather</a></li><li><a href=\"https://www.esrl.noaa.gov/gmd/grad/solcalc/sunrise.html\">Sun/Moon</a></li><li><a href=\"http://www.cpc.ncep.noaa.gov/\">Long Range Forecasts</a></li><li><a href=\"http://www.cpc.ncep.noaa.gov\">Climate Prediction</a></li><li><a href=\"https://www.swpc.noaa.gov/\">Space Weather</a></li></ul> </li>\n",
              "<li class=\"dropdown\"><a class=\"dropdown-toggle\" data-toggle=\"dropdown\" href=\"https://w2.weather.gov/climate\">PAST WEATHER <span class=\"caret\"></span></a><ul class=\"dropdown-menu\" role=\"menu\"><li><a href=\"https://w2.weather.gov/climate/\">Past Weather</a></li><li><a href=\"https://w2.weather.gov/climate/\">Heating/Cooling Days</a></li><li><a href=\"https://w2.weather.gov/climate/\">Monthly Temperatures</a></li><li><a href=\"https://w2.weather.gov/climate/\">Records</a></li><li><a href=\"http://aa.usno.navy.mil/\">Astronomical Data</a></li></ul> </li>\n",
              "<li class=\"dropdown\"><a class=\"dropdown-toggle\" data-toggle=\"dropdown\" href=\"http://www.weather.gov/safety\">SAFETY <span class=\"caret\"></span></a><ul class=\"dropdown-menu\" role=\"menu\"><li><a href=\"https://www.weather.gov/safety/flood\">Floods</a></li><li><a href=\"https://www.weather.gov/safety/tsunami\">Tsunamis</a></li><li><a href=\"https://www.weather.gov/safety/beachhazards\">Beach Hazards</a></li><li><a href=\"https://www.weather.gov/safety/wildfire\">Wildfire</a></li><li><a href=\"https://www.weather.gov/safety/cold\">Cold</a></li><li><a href=\"https://www.weather.gov/safety/tornado\">Tornadoes</a></li><li><a href=\"https://www.weather.gov/safety/airquality\">Air Quality</a></li><li><a href=\"https://www.weather.gov/safety/fog\">Fog</a></li><li><a href=\"https://www.weather.gov/safety/heat\">Heat</a></li><li><a href=\"https://www.weather.gov/safety/hurricane\">Hurricanes</a></li><li><a href=\"https://www.weather.gov/safety/lightning\">Lightning</a></li><li><a href=\"https://www.weather.gov/safety/safeboating\">Safe Boating</a></li><li><a href=\"https://www.weather.gov/safety/ripcurrent\">Rip Currents</a></li><li><a href=\"https://www.weather.gov/safety/thunderstorm\">Thunderstorms</a></li><li><a href=\"https://www.weather.gov/safety/space\">Space Weather</a></li><li><a href=\"https://www.weather.gov/safety/heat-uv\">Sun (Ultraviolet Radiation)</a></li><li><a href=\"http://www.weather.gov/safetycampaign\">Safety Campaigns</a></li><li><a href=\"https://www.weather.gov/safety/wind\">Wind</a></li><li><a href=\"https://www.weather.gov/safety/drought\">Drought</a></li><li><a href=\"https://www.weather.gov/safety/winter\">Winter Weather</a></li></ul> </li>\n",
              "<li class=\"dropdown\"><a class=\"dropdown-toggle\" data-toggle=\"dropdown\" href=\"http://www.weather.gov/informationcenter\">INFORMATION <span class=\"caret\"></span></a><ul class=\"dropdown-menu\" role=\"menu\"><li><a href=\"http://www.weather.gov/Owlie's\">Owlie's Kids Page</a></li><li><a href=\"http://www.weather.gov/wrn/wea\">Wireless Emergency Alerts</a></li><li><a href=\"https://www.weather.gov/owlie/publication_brochures\">Brochures</a></li><li><a href=\"http://www.weather.gov/wrn/\">Weather-Ready Nation</a></li><li><a href=\"https://www.weather.gov/coop/\">Cooperative Observers</a></li><li><a href=\"http://www.weather.gov/briefing/\">Daily Briefing</a></li><li><a href=\"http://www.nws.noaa.gov/om/hazstats.shtml\">Damage/Fatality/Injury Statistics</a></li><li><a href=\"http://mag.ncep.noaa.gov/\">Forecast Models</a></li><li><a href=\"https://www.weather.gov/gis\">GIS Data Portal</a></li><li><a href=\"https://www.weather.gov/nwr/\">NOAA Weather Radio</a></li><li><a href=\"http://weather.gov/publications\">Publications</a></li><li><a href=\"http://www.weather.gov/SKYWARN\">SKYWARN Storm Spotters</a></li><li><a href=\"http://www.weather.gov/StormReady\">StormReady</a></li><li><a href=\"https://www.weather.gov/TsunamiReady/\">TsunamiReady</a></li><li><a href=\"https://www.weather.gov/notification/\">Service Change Notices</a></li></ul> </li>\n",
              "<li class=\"dropdown\"><a class=\"dropdown-toggle\" data-toggle=\"dropdown\" href=\"http://www.weather.gov/owlie\">EDUCATION <span class=\"caret\"></span></a><ul class=\"dropdown-menu\" role=\"menu\"><li><a href=\"https://www.weather.gov/wrn/force\">Be A Force of Nature</a></li><li><a href=\"http://www.weather.gov/owlie\">NWS Education Home</a></li></ul> </li>\n",
              "<li class=\"dropdown\"><a class=\"dropdown-toggle\" data-toggle=\"dropdown\" href=\"http://www.weather.gov/contact-media/\">NEWS <span class=\"caret\"></span></a><ul class=\"dropdown-menu\" role=\"menu\"><li><a href=\"http://www.weather.gov/news\">NWS News</a></li><li><a href=\"https://www.weather.gov/wrn/calendar\">Events</a></li><li><a href=\"http://www.weather.gov/socialmedia\">Social Media</a></li><li><a href=\"https://www.weather.gov/owlie/publication_brochures\">Pubs/Brochures/Booklets </a></li><li><a href=\"http://www.noaa.gov/NOAA-Communications\">NWS Media Contacts</a></li></ul> </li>\n",
              "<li class=\"dropdown\"><a class=\"dropdown-toggle\" data-toggle=\"dropdown\" href=\"http://www.weather.gov/search\">SEARCH <span class=\"caret\"></span></a><ul class=\"dropdown-menu\" role=\"menu\"> <li><!-- Begin search code -->\n",
              "<div id=\"site-search\">\n",
              "<form action=\"//search.usa.gov/search\" method=\"get\" style=\"margin-bottom: 0; margin-top: 0;\">\n",
              "<input name=\"v:project\" type=\"hidden\" value=\"firstgov\"/>\n",
              "<label for=\"query\">Search For</label>\n",
              "<input id=\"query\" name=\"query\" size=\"12\" type=\"text\"/>\n",
              "<input type=\"submit\" value=\"Go\"/>\n",
              "<p>\n",
              "<input checked=\"checked\" id=\"nws\" name=\"affiliate\" type=\"radio\" value=\"nws.noaa.gov\"/>\n",
              "<label class=\"search-scope\" for=\"nws\">NWS</label>\n",
              "<input id=\"noaa\" name=\"affiliate\" type=\"radio\" value=\"noaa.gov\"/>\n",
              "<label class=\"search-scope\" for=\"noaa\">All NOAA</label>\n",
              "</p>\n",
              "</form>\n",
              "</div>\n",
              "</li>\n",
              "</ul> </li>\n",
              "<li class=\"dropdown\"><a class=\"dropdown-toggle\" data-toggle=\"dropdown\" href=\"http://www.weather.gov/about\">ABOUT <span class=\"caret\"></span></a><ul class=\"dropdown-menu\" role=\"menu\"><li><a href=\"http://www.weather.gov/about\">About NWS</a></li><li><a href=\"http://www.weather.gov/organization\">Organization</a></li><li><a href=\"https://www.weather.gov/media/wrn/NWS_Weather-Ready-Nation_Strategic_Plan_2019-2022.pdf\">Strategic Plan</a></li><li><a href=\"https://sites.google.com/a/noaa.gov/nws-insider/\">For NWS Employees</a></li><li><a href=\"http://www.weather.gov/international/\">International</a></li><li><a href=\"http://www.weather.gov/organization\">National Centers</a></li><li><a href=\"http://www.weather.gov/careers/\">Careers</a></li><li><a href=\"http://www.weather.gov/contact\">Contact Us</a></li><li><a href=\"https://w1.weather.gov/glossary\">Glossary</a></li></ul> </li>\n",
              "</ul>\n",
              "</div>\n",
              "</div>\n",
              "</nav>\n",
              "<div class=\"contentArea\">\n",
              "<!-- Start Forecastsearch -->\n",
              "<div class=\"\" id=\"fcst-search\">\n",
              "<form action=\"https://forecast.weather.gov/zipcity.php\" class=\"form-inline\" id=\"getForecast\" method=\"get\" name=\"getForecast\" role=\"form\">\n",
              "<div id=\"getfcst-body\">\n",
              "<input class=\"form-control\" id=\"inputstring\" name=\"inputstring\" placeholder=\"\" type=\"text\"/>\n",
              "<input class=\"btn btn-default\" id=\"btnSearch\" name=\"btnSearch\" type=\"submit\" value=\"Go\"/>\n",
              "<div id=\"txtHelp\"><a href=\"javascript:void(window.open('http://weather.gov/ForecastSearchHelp.html','locsearchhelp','status=0,toolbar=0,location=0,menubar=0,directories=0,resizable=1,scrollbars=1,height=500,width=530').focus());\">View Location Examples</a></div>\n",
              "</div>\n",
              "<div id=\"txtError\">\n",
              "<div id=\"errorNoResults\" style=\"display:none;\">Sorry, the location you searched for was not found. Please try another search.</div>\n",
              "<div id=\"errorMultipleResults\" style=\"display:none\">Multiple locations were found. Please select one of the following:</div>\n",
              "<div id=\"errorChoices\" style=\"display:none\"></div>\n",
              "<input id=\"btnCloseError\" style=\"display:none\" type=\"button\" value=\"Close\"/>\n",
              "</div>\n",
              "<div id=\"getfcst-head\">\n",
              "<p>Your local forecast office is</p>\n",
              "<h3 id=\"getfcst-headOffice\"></h3>\n",
              "</div>\n",
              "</form>\n",
              "</div>\n",
              "<!-- end Forecastsearch -->\n",
              "<link href=\"/css/topnews.css\" rel=\"stylesheet\" type=\"text/css\"/>\n",
              "<div id=\"news-items\">\n",
              "<div id=\"topnews\">\n",
              "<div class=\"icon\"><img src=\"/images/news-important.jpg\"/></div>\n",
              "<div class=\"body\">\n",
              "<h1 style=\"font-size: 11pt;\">Rain and Snow in the West; Blizzard Conditions Thursday in the Midwest</h1>\n",
              "<p>\n",
              "            Areas of rain and mountain snow are expected over portions of the West today as a cold front moves through the Intermountain West and a storm shifts south along the Northwest coast. A storm will develop along the cold front Thursday with areas of freezing rain, heavy snow and blizzard conditions overspreading the Midwest and Great Lakes into Friday. A blast of Arctic air will follow the storm.  \n",
              "            <a href=\"http://www.wpc.ncep.noaa.gov/discussions/hpcdiscussions.php?disc=pmdspd\" target=\"_blank\">Read More &gt;</a>\n",
              "</p>\n",
              "</div>\n",
              "</div>\n",
              "</div>\n",
              "<script type=\"text/javascript\">(function ($) { var topnews = $(\"#topnews\"); topnews.hide(); $.get(\"siteNews.php\", {a:\"mtr\"},function(response){ if (response !== \"false\") topnews.replaceWith($(response)); topnews.show(); }); })(jQuery);</script><!-- PageFormat-Land -->\n",
              "<script language=\"javascript\">document.title = $('<div/>').html('7-Day Forecast for Latitude 37.77&deg;N and Longitude 122.41&deg;W (Elev. 131 ft)').text();</script><img src=\"images/track_land_point.png\" style=\"display:none;\">\n",
              "<div id=\"quickLinks\">\n",
              "<span class=\"lang-spanish\"><a href=\"//forecast.weather.gov/MapClick.php?lat=37.7772&amp;lon=-122.4168&amp;lg=sp\">En Español</a></span>\n",
              "<div class=\"addthis_toolbox addthis_default_style addthis-forecast\">\n",
              "<a class=\"addthis_button_compact\" href=\"//www.addthis.com/bookmark.php?v=250&amp;pubid=ra-5127a6364d551d04\">Share</a>\n",
              "<span class=\"addthis_separator\">|</span>\n",
              "<a class=\"addthis_button_preferred_1\"></a>\n",
              "<a class=\"addthis_button_preferred_2\"></a>\n",
              "<a class=\"addthis_button_preferred_3\"></a>\n",
              "<a class=\"addthis_button_preferred_4\"></a>\n",
              "<a class=\"addthis_button_preferred_5\"></a>\n",
              "</div>\n",
              "<script type=\"text/javascript\">\n",
              "\t\tvar addthis_config = addthis_config || {data_track_addressbar:true, pubid: 'xa-4b05b2d91f18c9cc'};\n",
              "\t    $(document).ready(function(){\n",
              "\t\t\tjQuery.ajax({\n",
              "\t\t\t\turl: \"//s7.addthis.com/js/300/addthis_widget.js#async=1\",\n",
              "\t\t\t\tdataType: \"script\",\n",
              "\t\t\t\tcache: false\n",
              "\t\t\t});\n",
              "\t    });\n",
              "\t</script>\n",
              "</div>\n",
              "<!-- Current Conditions -->\n",
              "<div class=\"panel panel-default\" id=\"current-conditions\">\n",
              "<!-- Current Conditions header row -->\n",
              "<div class=\"panel-heading\">\n",
              "<div>\n",
              "<b>Current conditions at</b>\n",
              "<h2 class=\"panel-title\">SAN FRANCISCO DOWNTOWN (SFOC1)</h2>\n",
              "<span class=\"smallTxt\"><b>Lat: </b>37.77056°N<b>Lon: </b>122.42694°W<b>Elev: </b>150ft.</span>\n",
              "</div>\n",
              "</div>\n",
              "<div class=\"panel-body\" id=\"current-conditions-body\">\n",
              "<!-- Graphic and temperatures -->\n",
              "<div class=\"pull-left\" id=\"current_conditions-summary\">\n",
              "<p class=\"myforecast-current\">NA</p>\n",
              "<p class=\"myforecast-current-lrg\">52°F</p>\n",
              "<p class=\"myforecast-current-sm\">11°C</p>\n",
              "</div>\n",
              "<div class=\"pull-left\" id=\"current_conditions_detail\">\n",
              "<table>\n",
              "<tr>\n",
              "<td class=\"text-right\"><b>Humidity</b></td>\n",
              "<td>69%</td>\n",
              "</tr>\n",
              "<tr>\n",
              "<td class=\"text-right\"><b>Wind Speed</b></td>\n",
              "<td>NA NA MPH</td>\n",
              "</tr>\n",
              "<tr>\n",
              "<td class=\"text-right\"><b>Barometer</b></td>\n",
              "<td>NA</td>\n",
              "</tr>\n",
              "<tr>\n",
              "<td class=\"text-right\"><b>Dewpoint</b></td>\n",
              "<td>42°F (6°C)</td>\n",
              "</tr>\n",
              "<tr>\n",
              "<td class=\"text-right\"><b>Visibility</b></td>\n",
              "<td>NA</td>\n",
              "</tr>\n",
              "<tr>\n",
              "<td class=\"text-right\"><b>Last update</b></td>\n",
              "<td>\n",
              "                03 Feb 09:43 AM PST            </td>\n",
              "</tr>\n",
              "</table>\n",
              "</div>\n",
              "<div id=\"current_conditions_station\">\n",
              "<div class=\"current-conditions-extra\">\n",
              "<!-- Right hand section -->\n",
              "<p class=\"moreInfo\"><b>More Information:</b></p><p><a href=\"https://www.weather.gov/mtr\" id=\"localWFO\" title=\"San Francisco Bay Area/Monterey, CA\"><span class=\"hideText\">Local</span> Forecast Office</a><a href=\"https://www.weather.gov/wrh/LocalWeather?zone=CAZ006\" id=\"moreWx\">More Local Wx</a><a href=\"https://www.wrh.noaa.gov/mesowest/getobext.php?wfo=mtr&amp;sid=SFOC1&amp;num=72&amp;raw=0\">3 Day History</a><a href=\"//mobile.weather.gov/index.php?lat=37.7772&amp;lon=-122.4168&amp;unit=0&amp;lg=english\" id=\"mobileWxLink\">Mobile Weather</a><a href=\"MapClick.php?lat=37.7772&amp;lon=-122.4168&amp;unit=0&amp;lg=english&amp;FcstType=graphical\" id=\"wxGraph\">Hourly <span class=\"hideText\">Weather </span>Forecast</a></p> </div>\n",
              "<!-- /current_conditions_station -->\n",
              "</div>\n",
              "<!-- /current-conditions-body -->\n",
              "</div>\n",
              "<!-- /Current Conditions -->\n",
              "</div>\n",
              "<!-- 7-Day Forecast -->\n",
              "<div class=\"panel panel-default\" id=\"seven-day-forecast\">\n",
              "<div class=\"panel-heading\">\n",
              "<b>Extended Forecast for</b>\n",
              "<h2 class=\"panel-title\">\n",
              "\t    \t    San Francisco CA\t</h2>\n",
              "</div>\n",
              "<div class=\"panel-body\" id=\"seven-day-forecast-body\">\n",
              "<div id=\"seven-day-forecast-container\"><ul class=\"list-unstyled\" id=\"seven-day-forecast-list\"><li class=\"forecast-tombstone\">\n",
              "<div class=\"tombstone-container\">\n",
              "<p class=\"period-name\">Today<br/><br/></p>\n",
              "<p><img alt=\"Today: A 20 percent chance of showers.  Mostly sunny, with a high near 56. West wind 8 to 11 mph.  New precipitation amounts of less than a tenth of an inch possible. \" class=\"forecast-icon\" src=\"newimages/medium/hi_shwrs20.png\" title=\"Today: A 20 percent chance of showers.  Mostly sunny, with a high near 56. West wind 8 to 11 mph.  New precipitation amounts of less than a tenth of an inch possible. \"/></p><p class=\"short-desc\">Slight Chance<br/>Showers</p><p class=\"temp temp-high\">High: 56 °F</p></div></li><li class=\"forecast-tombstone\">\n",
              "<div class=\"tombstone-container\">\n",
              "<p class=\"period-name\">Tonight<br/><br/></p>\n",
              "<p><img alt=\"Tonight: Mostly clear, with a low around 43. Light and variable wind becoming north northeast 5 to 9 mph in the evening. \" class=\"forecast-icon\" src=\"newimages/medium/nfew.png\" title=\"Tonight: Mostly clear, with a low around 43. Light and variable wind becoming north northeast 5 to 9 mph in the evening. \"/></p><p class=\"short-desc\">Mostly Clear</p><p class=\"temp temp-low\">Low: 43 °F</p></div></li><li class=\"forecast-tombstone\">\n",
              "<div class=\"tombstone-container\">\n",
              "<p class=\"period-name\">Thursday<br/><br/></p>\n",
              "<p><img alt=\"Thursday: Sunny, with a high near 58. Calm wind becoming north northwest around 5 mph in the afternoon. \" class=\"forecast-icon\" src=\"newimages/medium/skc.png\" title=\"Thursday: Sunny, with a high near 58. Calm wind becoming north northwest around 5 mph in the afternoon. \"/></p><p class=\"short-desc\">Sunny</p><p class=\"temp temp-high\">High: 58 °F</p></div></li><li class=\"forecast-tombstone\">\n",
              "<div class=\"tombstone-container\">\n",
              "<p class=\"period-name\">Thursday<br/>Night</p>\n",
              "<p><img alt=\"Thursday Night: Clear, with a low around 44. Calm wind. \" class=\"forecast-icon\" src=\"newimages/medium/nskc.png\" title=\"Thursday Night: Clear, with a low around 44. Calm wind. \"/></p><p class=\"short-desc\">Clear</p><p class=\"temp temp-low\">Low: 44 °F</p></div></li><li class=\"forecast-tombstone\">\n",
              "<div class=\"tombstone-container\">\n",
              "<p class=\"period-name\">Friday<br/><br/></p>\n",
              "<p><img alt=\"Friday: Sunny, with a high near 61. Calm wind becoming west around 6 mph in the afternoon. \" class=\"forecast-icon\" src=\"newimages/medium/few.png\" title=\"Friday: Sunny, with a high near 61. Calm wind becoming west around 6 mph in the afternoon. \"/></p><p class=\"short-desc\">Sunny</p><p class=\"temp temp-high\">High: 61 °F</p></div></li><li class=\"forecast-tombstone\">\n",
              "<div class=\"tombstone-container\">\n",
              "<p class=\"period-name\">Friday<br/>Night</p>\n",
              "<p><img alt=\"Friday Night: Mostly clear, with a low around 44.\" class=\"forecast-icon\" src=\"newimages/medium/nfew.png\" title=\"Friday Night: Mostly clear, with a low around 44.\"/></p><p class=\"short-desc\">Mostly Clear</p><p class=\"temp temp-low\">Low: 44 °F</p></div></li><li class=\"forecast-tombstone\">\n",
              "<div class=\"tombstone-container\">\n",
              "<p class=\"period-name\">Saturday<br/><br/></p>\n",
              "<p><img alt=\"Saturday: Sunny, with a high near 62.\" class=\"forecast-icon\" src=\"newimages/medium/few.png\" title=\"Saturday: Sunny, with a high near 62.\"/></p><p class=\"short-desc\">Sunny</p><p class=\"temp temp-high\">High: 62 °F</p></div></li><li class=\"forecast-tombstone\">\n",
              "<div class=\"tombstone-container\">\n",
              "<p class=\"period-name\">Saturday<br/>Night</p>\n",
              "<p><img alt=\"Saturday Night: Mostly clear, with a low around 45.\" class=\"forecast-icon\" src=\"newimages/medium/nfew.png\" title=\"Saturday Night: Mostly clear, with a low around 45.\"/></p><p class=\"short-desc\">Mostly Clear</p><p class=\"temp temp-low\">Low: 45 °F</p></div></li><li class=\"forecast-tombstone\">\n",
              "<div class=\"tombstone-container\">\n",
              "<p class=\"period-name\">Sunday<br/><br/></p>\n",
              "<p><img alt=\"Sunday: Mostly sunny, with a high near 62.\" class=\"forecast-icon\" src=\"newimages/medium/sct.png\" title=\"Sunday: Mostly sunny, with a high near 62.\"/></p><p class=\"short-desc\">Mostly Sunny</p><p class=\"temp temp-high\">High: 62 °F</p></div></li></ul></div>\n",
              "<script type=\"text/javascript\">\n",
              "// equalize forecast heights\n",
              "$(function () {\n",
              "\tvar maxh = 0;\n",
              "\t$(\".forecast-tombstone .short-desc\").each(function () {\n",
              "\t\tvar h = $(this).height();\n",
              "\t\tif (h > maxh) { maxh = h; }\n",
              "\t});\n",
              "\t$(\".forecast-tombstone .short-desc\").height(maxh);\n",
              "});\n",
              "</script> </div>\n",
              "</div>\n",
              "<!-- Everything between 7-Day Forecast and Footer goes in this row -->\n",
              "<div class=\"row\" id=\"floatingDivs\">\n",
              "<!-- Everything on the left-hand side -->\n",
              "<div class=\"col-md-7 col-lg-8\">\n",
              "<!-- Detailed Forecast -->\n",
              "<div class=\"panel panel-default\" id=\"detailed-forecast\">\n",
              "<div class=\"panel-heading\">\n",
              "<h2 class=\"panel-title\">Detailed Forecast</h2>\n",
              "</div>\n",
              "<div class=\"panel-body\" id=\"detailed-forecast-body\">\n",
              "<div class=\"row row-odd row-forecast\"><div class=\"col-sm-2 forecast-label\"><b>Today</b></div><div class=\"col-sm-10 forecast-text\">A 20 percent chance of showers.  Mostly sunny, with a high near 56. West wind 8 to 11 mph.  New precipitation amounts of less than a tenth of an inch possible. </div></div><div class=\"row row-even row-forecast\"><div class=\"col-sm-2 forecast-label\"><b>Tonight</b></div><div class=\"col-sm-10 forecast-text\">Mostly clear, with a low around 43. Light and variable wind becoming north northeast 5 to 9 mph in the evening. </div></div><div class=\"row row-odd row-forecast\"><div class=\"col-sm-2 forecast-label\"><b>Thursday</b></div><div class=\"col-sm-10 forecast-text\">Sunny, with a high near 58. Calm wind becoming north northwest around 5 mph in the afternoon. </div></div><div class=\"row row-even row-forecast\"><div class=\"col-sm-2 forecast-label\"><b>Thursday Night</b></div><div class=\"col-sm-10 forecast-text\">Clear, with a low around 44. Calm wind. </div></div><div class=\"row row-odd row-forecast\"><div class=\"col-sm-2 forecast-label\"><b>Friday</b></div><div class=\"col-sm-10 forecast-text\">Sunny, with a high near 61. Calm wind becoming west around 6 mph in the afternoon. </div></div><div class=\"row row-even row-forecast\"><div class=\"col-sm-2 forecast-label\"><b>Friday Night</b></div><div class=\"col-sm-10 forecast-text\">Mostly clear, with a low around 44.</div></div><div class=\"row row-odd row-forecast\"><div class=\"col-sm-2 forecast-label\"><b>Saturday</b></div><div class=\"col-sm-10 forecast-text\">Sunny, with a high near 62.</div></div><div class=\"row row-even row-forecast\"><div class=\"col-sm-2 forecast-label\"><b>Saturday Night</b></div><div class=\"col-sm-10 forecast-text\">Mostly clear, with a low around 45.</div></div><div class=\"row row-odd row-forecast\"><div class=\"col-sm-2 forecast-label\"><b>Sunday</b></div><div class=\"col-sm-10 forecast-text\">Mostly sunny, with a high near 62.</div></div><div class=\"row row-even row-forecast\"><div class=\"col-sm-2 forecast-label\"><b>Sunday Night</b></div><div class=\"col-sm-10 forecast-text\">Partly cloudy, with a low around 47.</div></div><div class=\"row row-odd row-forecast\"><div class=\"col-sm-2 forecast-label\"><b>Monday</b></div><div class=\"col-sm-10 forecast-text\">Partly sunny, with a high near 60.</div></div><div class=\"row row-even row-forecast\"><div class=\"col-sm-2 forecast-label\"><b>Monday Night</b></div><div class=\"col-sm-10 forecast-text\">Mostly cloudy, with a low around 48.</div></div><div class=\"row row-odd row-forecast\"><div class=\"col-sm-2 forecast-label\"><b>Tuesday</b></div><div class=\"col-sm-10 forecast-text\">Partly sunny, with a high near 61.</div></div> </div>\n",
              "</div>\n",
              "<!-- /Detailed Forecast -->\n",
              "<!-- Additional Forecasts and Information -->\n",
              "<div class=\"panel panel-default\" id=\"additional_forecasts\">\n",
              "<div class=\"panel-heading\">\n",
              "<h2 class=\"panel-title\">Additional Forecasts and Information</h2>\n",
              "</div>\n",
              "<div class=\"panel-body\" id=\"additional-forecasts-body\">\n",
              "<p class=\"myforecast-location\"><a href=\"MapClick.php?zoneid=CAZ006\">Zone Area Forecast for San Francisco County, CA</a></p>\n",
              "<!-- First nine-ten links -->\n",
              "<div id=\"linkBlockContainer\">\n",
              "<div class=\"linkBlock\">\n",
              "<ul class=\"list-unstyled\">\n",
              "<li><a href=\"//forecast.weather.gov/product.php?site=MTR&amp;issuedby=MTR&amp;product=AFD&amp;format=CI&amp;version=1&amp;glossary=1\">Forecast Discussion</a></li>\n",
              "<li><a href=\"MapClick.php?lat=37.7772&amp;lon=-122.4168&amp;unit=0&amp;lg=english&amp;FcstType=text&amp;TextType=2\">Printable Forecast</a></li>\n",
              "<li><a href=\"MapClick.php?lat=37.7772&amp;lon=-122.4168&amp;unit=0&amp;lg=english&amp;FcstType=text&amp;TextType=1\">Text Only Forecast</a></li>\n",
              "</ul>\n",
              "</div>\n",
              "<div class=\"linkBlock\">\n",
              "<ul class=\"list-unstyled\">\n",
              "<li><a href=\"MapClick.php?lat=37.7772&amp;lon=-122.4168&amp;unit=0&amp;lg=english&amp;FcstType=graphical\">Hourly Weather Forecast</a></li>\n",
              "<li><a href=\"MapClick.php?lat=37.7772&amp;lon=-122.4168&amp;unit=0&amp;lg=english&amp;FcstType=digital\">Tabular Forecast</a></li>\n",
              "<!-- <li><a href=\"afm/PointClick.php?lat=37.7772&lon=-122.4168\">Quick Forecast</a></li> -->\n",
              "</ul>\n",
              "</div>\n",
              "<div class=\"linkBlock\">\n",
              "<ul class=\"list-unstyled\">\n",
              "<li><a href=\"//weather.gov/aq/probe_aq_data.php?latitude=37.7772&amp;longitude=-122.4168\">Air Quality Forecasts</a></li>\n",
              "<li><a href=\"MapClick.php?lat=37.7772&amp;lon=-122.4168&amp;FcstType=text&amp;unit=1&amp;lg=en\">International System of Units</a></li>\n",
              "<li><a href=\"//www.wrh.noaa.gov/forecast/wxtables/index.php?lat=37.7772&amp;lon=-122.4168\">Forecast Weather Table Interface</a></li>\n",
              "</ul>\n",
              "</div>\n",
              "<!-- /First nine-ten links -->\n",
              "<!-- Additional links -->\n",
              "<div class=\"linkBlock\"><ul class=\"list-unstyled\"><li><a href=\"http://www.wrh.noaa.gov/mtr/versprod.php?pil=RR8&amp;sid=RSA\" target=\"_self\">Hourly River Stages</a></li><li><a href=\"http://www.wrh.noaa.gov/mtr/versprod.php?pil=RR5&amp;sid=RSA\" target=\"_self\">Hourly Rainfall</a></li></ul></div><div class=\"linkBlock\"><ul class=\"list-unstyled\"><li><a href=\"http://www.wrh.noaa.gov/mtr/wxlinks.php\" target=\"_self\">NWS Office Map</a></li><li><a href=\"http://www.wrh.noaa.gov/mtr/wx_calculator.php\" target=\"_self\">Weather Calculator</a></li></ul></div><div class=\"linkBlock\"><ul class=\"list-unstyled\"><li><a href=\"http://www.nws.noaa.gov/wtf/udaf/area/?site=mtr\" target=\"_self\">User Defined Area</a></li></ul></div>\n",
              "</div> <!-- /linkBlockContainer -->\n",
              "</div><!-- /additional-forecasts-body-->\n",
              "</div> <!-- /additional_forecasts -->\n",
              "</div> <!-- /Everything on the left-hand side -->\n",
              "<!-- right-side-data -->\n",
              "<div class=\"col-md-5 col-lg-4\" id=\"right-side-data\">\n",
              "<div id=\"mapAndDescriptionArea\">\n",
              "<!-- openlayer map -->\n",
              "<style>\n",
              "#custom-search{\n",
              "display: block;\n",
              "position: relative;\n",
              "z-index: 50;\n",
              "top: 52px;\n",
              "left: 60px;\n",
              "}\n",
              "#esri-geocoder-search{\n",
              "display: block;\n",
              "position: relative;\n",
              "z-index: 50;\n",
              "top: 52px;\n",
              "left: 60px;\n",
              "}\n",
              "#emap{\n",
              "margin-top:15px;\n",
              "cursor:pointer;\n",
              "height:370px;\n",
              "width:100%;\n",
              "border: 1px solid #ccc;\n",
              "border-radius: 3px;\n",
              "}\n",
              "#switch-basemap-container{\n",
              "}\n",
              "#basemap-selection-form ul{\n",
              "list-style: none;\n",
              " margin: 0px;\n",
              "}\n",
              "#basemap-selection-form li{\n",
              "float: left;\n",
              "}\n",
              ".disclaimer{\n",
              "margin-top:350px;\n",
              "margin-left: 5px;\n",
              "z-index: 100;\n",
              "position: absolute;\n",
              "text-transform: none;\n",
              "}\n",
              ".esriAttributionLastItem{\n",
              "text-transform: none;\n",
              "}\n",
              ".esriSimpleSlider div{\n",
              "height:22px;\n",
              "line-height:20px;\n",
              "width:20px;\n",
              "}\n",
              "#point-forecast-map-label {\n",
              "text-align:center;\n",
              "font-weight:bold;\n",
              "color:black;\n",
              "}\n",
              "@media (max-width: 767px) {\n",
              "#emap{\n",
              "margin-top:.5em;\n",
              "height:270px;\n",
              "}\n",
              ".disclaimer{\n",
              "margin-top:250px;\n",
              "}\n",
              "}\n",
              "</style>\n",
              "<!-- forecast-map -->\n",
              "<div class=\"point-forecast-map\">\n",
              "<div class=\"point-forecast-map-header text-center\">\n",
              "<div id=\"toolbar\">\n",
              "<div id=\"switch-basemap-container\">\n",
              "<div id=\"basemap-selection-form\" title=\"Choose a Basemap\">\n",
              "<div id=\"basemap-menu\">\n",
              "<select autocomplete=\"off\" id=\"basemap-selected\" name=\"basemap-selected\" title=\"Basemap Dropdown Menu\">\n",
              "<option value=\"none\">Select Basemap</option>\n",
              "<option selected=\"\" value=\"topo\">Topographic</option>\n",
              "<option value=\"streets\">Streets</option>\n",
              "<option value=\"satellite\">Satellite</option>\n",
              "<option value=\"ocean\">Ocean</option>\n",
              "</select>\n",
              "</div>\n",
              "</div>\n",
              "<div id=\"point-forecast-map-label\">\n",
              "                    Click Map For Forecast\n",
              "                </div>\n",
              "</div><!-- //#switch-basemap-container -->\n",
              "<div style=\"clear:both;\"></div>\n",
              "</div><!-- //#toolbar -->\n",
              "</div><!-- //.point-forecast-map-header -->\n",
              "<div id=\"emap\">\n",
              "<noscript><center><br/><br/><b>Map function requires Javascript and a compatible browser.</b></center></noscript>\n",
              "<div class=\"disclaimer\"><a href=\"http://www.weather.gov/disclaimer#esri\">Disclaimer</a></div>\n",
              "</div><!-- //#emap -->\n",
              "<div class=\"point-forecast-map-footer\">\n",
              "<img alt=\"Map Legend\" height=\"16\" src=\"./images/wtf/maplegend_forecast-area.gif\" width=\"100\"/>\n",
              "</div><!-- //.point-forecast-map-footer -->\n",
              "</div> <!-- //.point-forecast-map -->\n",
              "<!-- //forecast-map -->\n",
              "<!-- //openlayer map -->\n",
              "<!-- About this Forecast -->\n",
              "<div id=\"about_forecast\">\n",
              "<div class=\"fullRow\">\n",
              "<div class=\"left\">Point Forecast:</div>\n",
              "<div class=\"right\">San Francisco CA<br/> 37.77°N 122.41°W (Elev. 131 ft)</div>\n",
              "</div>\n",
              "<div class=\"fullRow\">\n",
              "<div class=\"left\"><a href=\"//www.weather.gov/glossary/index.php?word=Last+update\" target=\"_blank\">Last Update</a>: </div>\n",
              "<div class=\"right\">8:54 am PST Feb 3, 2021</div>\n",
              "</div>\n",
              "<div class=\"fullRow\">\n",
              "<div class=\"left\"><a href=\"//www.weather.gov/glossary/index.php?word=forecast+valid+for\" target=\"_blank\">Forecast Valid</a>: </div>\n",
              "<div class=\"right\">10am PST Feb 3, 2021-6pm PST Feb 9, 2021</div>\n",
              "</div>\n",
              "<div class=\"fullRow\">\n",
              "<div class=\"left\"> </div>\n",
              "<div class=\"right\"><a href=\"https://forecast.weather.gov/product.php?site=MTR&amp;issuedby=MTR&amp;product=AFD&amp;format=CI&amp;version=1&amp;glossary=1\">Forecast Discussion</a></div>\n",
              "</div>\n",
              "<div class=\"fullRow\">\n",
              "<div class=\"left\"> </div>\n",
              "<div class=\"right\">\n",
              "<a href=\"MapClick.php?lat=37.7772&amp;lon=-122.4168&amp;unit=0&amp;lg=english&amp;FcstType=kml\"><img alt=\"Get as KML\" height=\"17\" src=\"/images/wtf/kml_badge.png\" width=\"45\"/></a>\n",
              "<a href=\"MapClick.php?lat=37.7772&amp;lon=-122.4168&amp;unit=0&amp;lg=english&amp;FcstType=dwml\"><img alt=\"Get as XML\" height=\"17\" src=\"/images/wtf/xml_badge.png\" width=\"45\"/></a>\n",
              "</div>\n",
              "</div>\n",
              "</div>\n",
              "<!-- /About this Forecast -->\n",
              "</div>\n",
              "<!--additionalForecast-->\n",
              "<div class=\"panel panel-default\" id=\"additionalForecast\">\n",
              "<div class=\"panel-heading\">\n",
              "<h2 class=\"panel-title\">Additional Resources</h2>\n",
              "</div>\n",
              "<div class=\"panel-body\">\n",
              "<!-- Radar & Satellite Images -->\n",
              "<div class=\"subItem\" id=\"radar\">\n",
              "<h4>Radar &amp; Satellite Image</h4>\n",
              "<a href=\"https://radar.weather.gov/?settings=v1_eyJhZ2VuZGEiOnsiaWQiOiJ3ZWF0aGVyIiwiY2VudGVyIjpbLTEyMi40MiwzNy43NzddLCJ6b29tIjo3LCJsb2NhdGlvbiI6Wy0xMjIuNDIsMzcuNzc3XX0sImJhc2UiOiJzdGFuZGFyZCIsImNvdW50eSI6ZmFsc2UsImN3YSI6ZmFsc2UsInN0YXRlIjpmYWxzZSwibWVudSI6dHJ1ZSwic2hvcnRGdXNlZE9ubHkiOmZhbHNlfQ%3D%3D#/\"><img alt=\"Link to Local Radar Data\" class=\"radar-thumb\" src=\"//radar.weather.gov/ridge/lite/KMUX_0.gif\" title=\"Link to Local Radar Data\"/></a> <a href=\"https://www.star.nesdis.noaa.gov/GOES/sector.php?sat=G17§or=psw\"><img alt=\"Link to Satellite Data\" class=\"satellite-thumb\" src=\"https://cdn.star.nesdis.noaa.gov/GOES17/ABI/SECTOR/psw/GEOCOLOR/600x600.jpg\" title=\"Link to Satellite Data\"/></a> </div>\n",
              "<!-- /Radar & Satellite Images -->\n",
              "<!-- Hourly Weather Forecast -->\n",
              "<div class=\"subItem\" id=\"feature\">\n",
              "<h4>Hourly Weather Forecast</h4>\n",
              "<a href=\"MapClick.php?lat=37.7772&amp;lon=-122.4168&amp;unit=0&amp;lg=english&amp;FcstType=graphical\"><img class=\"img-responsive\" src=\"newimages/medium/hourlyweather.png\"/></a>\n",
              "</div>\n",
              "<!-- /Hourly Weather Forecast -->\n",
              "<!-- NDFD -->\n",
              "<div class=\"subItem\" id=\"NDFD\">\n",
              "<h4>National Digital Forecast Database</h4>\n",
              "<div class=\"one-sixth-first\"><a href=\"//graphical.weather.gov/sectors/pacsouthwest.php?element=MaxT\"><img alt=\"National Digital Forecast Database Maximum Temperature Forecast\" border=\"0\" height=\"150\" src=\"//graphical.weather.gov/images/thumbnail/latest_MaxMinT_pacsouthwest_thumbnail.png\" title=\"National Digital Forecast Database Maximum Temperature Forecast\" width=\"147\"/></a>\n",
              "<p><a href=\"//graphical.weather.gov/sectors/pacsouthwest.php?element=MaxT\">High Temperature</a></p></div><div class=\"one-sixth-first\"><a href=\"//graphical.weather.gov/sectors/pacsouthwest.php?element=Wx\"><img alt=\"National Digital Forecast Database Weather Element Forecast\" border=\"0\" height=\"150\" src=\"//graphical.weather.gov/images/thumbnail/latest_Wx_pacsouthwest_thumbnail.png\" title=\"National Digital Forecast Database Weather Element Forecast\" width=\"147\"/></a>\n",
              "<p><a href=\"//graphical.weather.gov/sectors/pacsouthwest.php?element=Wx\">Chance of Precipitation</a></p></div> </div>\n",
              "<!-- /NDFD -->\n",
              "</div>\n",
              "</div>\n",
              "<!-- /additionalForecast -->\n",
              "</div>\n",
              "<!-- /col-md-4 -->\n",
              "<!-- /right-side-data -->\n",
              "<script language=\"javascript\">$( document ).ready(function() { load_openlayers_map('', '', '', '{\"centroid_lat\":\"37.7772\",\"centroid_lon\":\"-122.4168\",\"lat1\":\"37.7595\",\"lon1\":\"-122.4205\",\"lat2\":\"37.781\",\"lon2\":\"-122.426\",\"lat3\":\"37.7855\",\"lon3\":\"-122.3985\",\"lat4\":\"37.764\",\"lon4\":\"-122.393\"}') });</script></div>\n",
              "<!-- /row  -->\n",
              "</img></div>\n",
              "<!-- /PageFormat-Land -->\n",
              "</main></body></html>\n",
              "<footer>\n",
              "<div class=\"sitemap-content row\" id=\"sitemap\">\n",
              "<div class=\"col-xs-12\">\n",
              "<div class=\"sitemap-columns\">\n",
              "<div class=\"sitemap-section\">\n",
              "<div class=\"panel-heading\">\n",
              "<a class=\"sitemap-section-heading\" href=\" http://www.nws.noaa.gov/climate/\">PAST WEATHER</a>\n",
              "<button class=\"menu-toggle pull-right\" data-target=\"#sitemap-1\" data-toggle=\"collapse\" type=\"button\">\n",
              "<span class=\"sr-only\">Toggle menu</span>\n",
              "<span class=\"icon-bar\"></span>\n",
              "<span class=\"icon-bar\"></span>\n",
              "<span class=\"icon-bar\"></span>\n",
              "</button>\n",
              "</div>\n",
              "<div class=\"sitemap-section-body panel-body collapsable collapse\" id=\"sitemap-1\">\n",
              "<ul class=\"list-unstyled\">\n",
              "<li><a href=\" http://www.cpc.ncep.noaa.gov/products/MD_index.shtml\">Climate Monitoring </a></li>\n",
              "<li><a href=\"https://w2.weather.gov/climate/\">Past Weather </a></li>\n",
              "<li><a href=\" http://www.nws.noaa.gov/climate/\">Monthly Temps </a></li>\n",
              "<li><a href=\" http://www.nws.noaa.gov/climate/\">Records </a></li>\n",
              "<li><a href=\"https://www.esrl.noaa.gov/gmd/grad/solcalc/sunrise.html\">Astronomical Data </a></li>\n",
              "<li><a href=\"https://www.climate.gov/maps-data/dataset/past-weather-zip-code-data-table\">Certified Weather Data </a></li>\n",
              "</ul>\n",
              "</div>\n",
              "</div>\n",
              "<div class=\"sitemap-section\">\n",
              "<div class=\"panel-heading\">\n",
              "<a class=\"sitemap-section-heading\" href=\"http://alerts.weather.gov\">ACTIVE ALERTS</a>\n",
              "<button class=\"menu-toggle pull-right\" data-target=\"#sitemap-2\" data-toggle=\"collapse\" type=\"button\">\n",
              "<span class=\"sr-only\">Toggle menu</span>\n",
              "<span class=\"icon-bar\"></span>\n",
              "<span class=\"icon-bar\"></span>\n",
              "<span class=\"icon-bar\"></span>\n",
              "</button>\n",
              "</div>\n",
              "<div class=\"sitemap-section-body panel-body collapsable collapse\" id=\"sitemap-2\">\n",
              "<ul class=\"list-unstyled\">\n",
              "<li><a href=\" http://alerts.weather.gov\">Warnings By State</a></li>\n",
              "<li><a href=\" http://www.wpc.ncep.noaa.gov/ww.shtml\">Excessive Rainfall and Winter Weather Forecasts</a></li>\n",
              "<li><a href=\"http://water.weather.gov/ahps/?current_color=flood&amp;current_type=all&amp;fcst_type=obs&amp;conus_map=d_map\">River Flooding </a></li>\n",
              "<li><a href=\" http://www.weather.gov\">Latest Warnings</a></li>\n",
              "<li><a href=\" http://www.spc.noaa.gov/products/outlook/\">Thunderstorm/Tornado Outlook </a></li>\n",
              "<li><a href=\" http://www.nhc.noaa.gov/\">Hurricanes </a></li>\n",
              "<li><a href=\" http://www.spc.noaa.gov/products/fire_wx/\">Fire Weather Outlooks </a></li>\n",
              "<li><a href=\" http://www.cpc.ncep.noaa.gov/products/stratosphere/uv_index/uv_alert.shtml\">UV Alerts </a></li>\n",
              "<li><a href=\" http://www.drought.gov/\">Drought </a></li>\n",
              "<li><a href=\"http://www.swpc.noaa.gov/products/alerts-watches-and-warnings\">Space Weather </a></li>\n",
              "<li><a href=\" http://www.nws.noaa.gov/nwr/\">NOAA Weather Radio </a></li>\n",
              "<li><a href=\" http://alerts.weather.gov/\">NWS CAP Feeds </a></li>\n",
              "</ul>\n",
              "</div>\n",
              "</div>\n",
              "<div class=\"sitemap-section\">\n",
              "<div class=\"panel-heading\">\n",
              "<a class=\"sitemap-section-heading\" href=\"http://www.weather.gov/current\">CURRENT CONDITIONS</a>\n",
              "<button class=\"menu-toggle pull-right\" data-target=\"#sitemap-3\" data-toggle=\"collapse\" type=\"button\">\n",
              "<span class=\"sr-only\">Toggle menu</span>\n",
              "<span class=\"icon-bar\"></span>\n",
              "<span class=\"icon-bar\"></span>\n",
              "<span class=\"icon-bar\"></span>\n",
              "</button>\n",
              "</div>\n",
              "<div class=\"sitemap-section-body panel-body collapsable collapse\" id=\"sitemap-3\">\n",
              "<ul class=\"list-unstyled\">\n",
              "<li><a href=\" https://radar.weather.gov\">Radar </a></li>\n",
              "<li><a href=\"http://www.cpc.ncep.noaa.gov/products/monitoring_and_data/\">Climate Monitoring </a></li>\n",
              "<li><a href=\" http://water.weather.gov/ahps/\">River Levels </a></li>\n",
              "<li><a href=\" http://water.weather.gov/precip/\">Observed Precipitation </a></li>\n",
              "<li><a href=\"https://www.wpc.ncep.noaa.gov/sfc/sfcobs/sfcobs.shtml\">Surface Weather </a></li>\n",
              "<li><a href=\"http://www.spc.noaa.gov/obswx/maps/\">Upper Air </a></li>\n",
              "<li><a href=\" http://www.ndbc.noaa.gov/\">Marine and Buoy Reports </a></li>\n",
              "<li><a href=\"http://www.nohrsc.noaa.gov/interactive/html/map.html\">Snow Cover </a></li>\n",
              "<li><a href=\" http://www.weather.gov/satellite\">Satellite </a></li>\n",
              "<li><a href=\" http://www.swpc.noaa.gov/\">Space Weather </a></li>\n",
              "<li><a href=\"http://www.weather.gov/pr\">International Observations</a></li>\n",
              "</ul>\n",
              "</div>\n",
              "</div>\n",
              "<div class=\"sitemap-section\">\n",
              "<div class=\"panel-heading\">\n",
              "<a class=\"sitemap-section-heading\" href=\"http://weather.gov/forecastmaps\">FORECAST</a>\n",
              "<button class=\"menu-toggle pull-right\" data-target=\"#sitemap-4\" data-toggle=\"collapse\" type=\"button\">\n",
              "<span class=\"sr-only\">Toggle menu</span>\n",
              "<span class=\"icon-bar\"></span>\n",
              "<span class=\"icon-bar\"></span>\n",
              "<span class=\"icon-bar\"></span>\n",
              "</button>\n",
              "</div>\n",
              "<div class=\"sitemap-section-body panel-body collapsable collapse\" id=\"sitemap-4\">\n",
              "<ul class=\"list-unstyled\">\n",
              "<li><a href=\" http://www.weather.gov/\">Local Forecast </a></li>\n",
              "<li><a href=\"http://www.weather.gov/pr\">International Forecasts</a></li>\n",
              "<li><a href=\" http://www.spc.noaa.gov/\">Severe Weather </a></li>\n",
              "<li><a href=\" http://www.wpc.ncep.noaa.gov/\">Current Outlook Maps </a></li>\n",
              "<li><a href=\"http://www.cpc.ncep.noaa.gov/products/Drought\">Drought </a></li>\n",
              "<li><a href=\"http://www.weather.gov/fire\">Fire Weather </a></li>\n",
              "<li><a href=\" http://www.wpc.ncep.noaa.gov/\">Fronts/Precipitation Maps </a></li>\n",
              "<li><a href=\" http://www.nws.noaa.gov/forecasts/graphical/\">Current Graphical Forecast Maps </a></li>\n",
              "<li><a href=\"http://water.weather.gov/ahps/forecasts.php\">Rivers </a></li>\n",
              "<li><a href=\"https://www.weather.gov/marine/\">Marine </a></li>\n",
              "<li><a href=\"https://ocean.weather.gov/marine_areas.php\">Offshore and High Seas</a></li>\n",
              "<li><a href=\" http://www.nhc.noaa.gov/\">Hurricanes </a></li>\n",
              "<li><a href=\" http://aviationweather.gov\">Aviation Weather </a></li>\n",
              "<li><a href=\"http://www.cpc.ncep.noaa.gov/products/OUTLOOKS_index.shtml\">Climatic Outlook </a></li>\n",
              "</ul>\n",
              "</div>\n",
              "</div>\n",
              "<div class=\"sitemap-section\">\n",
              "<div class=\"panel-heading\">\n",
              "<a class=\"sitemap-section-heading\" href=\"http://www.weather.gov/informationcenter\">INFORMATION CENTER</a>\n",
              "<button class=\"menu-toggle pull-right\" data-target=\"#sitemap-5\" data-toggle=\"collapse\" type=\"button\">\n",
              "<span class=\"sr-only\">Toggle menu</span>\n",
              "<span class=\"icon-bar\"></span>\n",
              "<span class=\"icon-bar\"></span>\n",
              "<span class=\"icon-bar\"></span>\n",
              "</button>\n",
              "</div>\n",
              "<div class=\"sitemap-section-body panel-body collapsable collapse\" id=\"sitemap-5\">\n",
              "<ul class=\"list-unstyled\">\n",
              "<li><a href=\" http://www.spaceweather.gov\">Space Weather </a></li>\n",
              "<li><a href=\"http://www.weather.gov/briefing/\">Daily Briefing </a></li>\n",
              "<li><a href=\" http://www.nws.noaa.gov/om/marine/home.htm\">Marine </a></li>\n",
              "<li><a href=\"http://www.nws.noaa.gov/climate\">Climate </a></li>\n",
              "<li><a href=\"http://www.weather.gov/fire\">Fire Weather </a></li>\n",
              "<li><a href=\" http://www.aviationweather.gov/\">Aviation </a></li>\n",
              "<li><a href=\"http://mag.ncep.noaa.gov/\">Forecast Models </a></li>\n",
              "<li><a href=\"http://water.weather.gov/ahps/\">Water </a></li>\n",
              "<li><a href=\"https://www.weather.gov/gis/\">GIS</a></li>\n",
              "<li><a href=\" http://www.nws.noaa.gov/om/coop/\">Cooperative Observers </a></li>\n",
              "<li><a href=\"https://www.weather.gov/skywarn/\">Storm Spotters </a></li>\n",
              "<li><a href=\"http://www.tsunami.gov\">Tsunami Warning System</a></li>\n",
              "<li><a href=\"http://water.noaa.gov/\">National Water Center</a></li>\n",
              "<li><a href=\"http://www.weather.gov/pr\">International Weather</a></li>\n",
              "</ul>\n",
              "</div>\n",
              "</div>\n",
              "<div class=\"sitemap-section\">\n",
              "<div class=\"panel-heading\">\n",
              "<a class=\"sitemap-section-heading\" href=\"http://weather.gov/safety\">WEATHER SAFETY</a>\n",
              "<button class=\"menu-toggle pull-right\" data-target=\"#sitemap-6\" data-toggle=\"collapse\" type=\"button\">\n",
              "<span class=\"sr-only\">Toggle menu</span>\n",
              "<span class=\"icon-bar\"></span>\n",
              "<span class=\"icon-bar\"></span>\n",
              "<span class=\"icon-bar\"></span>\n",
              "</button>\n",
              "</div>\n",
              "<div class=\"sitemap-section-body panel-body collapsable collapse\" id=\"sitemap-6\">\n",
              "<ul class=\"list-unstyled\">\n",
              "<li><a href=\"http://www.weather.gov/nwr/\">NOAA Weather Radio</a></li>\n",
              "<li><a href=\"http://www.weather.gov/stormready/\">StormReady</a></li>\n",
              "<li><a href=\"http://www.nws.noaa.gov/om/heat/index.shtml\">Heat </a></li>\n",
              "<li><a href=\"https://www.weather.gov/safety/lightning\">Lightning </a></li>\n",
              "<li><a href=\" http://www.nhc.noaa.gov/prepare/\">Hurricanes </a></li>\n",
              "<li><a href=\"http://www.nws.noaa.gov/om/thunderstorm/\">Thunderstorms </a></li>\n",
              "<li><a href=\"https://www.weather.gov/safety/tornado\">Tornadoes </a></li>\n",
              "<li><a href=\"https://www.weather.gov/safety/ripcurrent\">Rip Currents </a></li>\n",
              "<li><a href=\"https://www.weather.gov/safety/flood\">Floods </a></li>\n",
              "<li><a href=\"https://www.weather.gov/safety/tsunami\">Tsunamis</a></li>\n",
              "<li><a href=\"https://www.weather.gov/tsunamiready/\">TsunamiReady</a></li>\n",
              "<li><a href=\" http://www.weather.gov/om/winter/index.shtml\">Winter Weather </a></li>\n",
              "<li><a href=\"http://www.nws.noaa.gov/om/heat/uv.shtml\">Ultra Violet Radiation </a></li>\n",
              "<li><a href=\" http://www.weather.gov/airquality/\">Air Quality </a></li>\n",
              "<li><a href=\" http://www.weather.gov/om/hazstats.shtml\">Damage/Fatality/Injury Statistics </a></li>\n",
              "<li><a href=\" http://www.redcross.org/\">Red Cross </a></li>\n",
              "<li><a href=\" http://www.fema.gov/\">Federal Emergency Management Agency (FEMA) </a></li>\n",
              "<li><a href=\" http://www.weather.gov/om/brochures.shtml\">Brochures </a></li>\n",
              "<li><a href=\"http://www.nws.noaa.gov/os/marine/safeboating/\">Safe Boating</a></li>\n",
              "</ul>\n",
              "</div>\n",
              "</div>\n",
              "<div class=\"sitemap-section\">\n",
              "<div class=\"panel-heading\">\n",
              "<a class=\"sitemap-section-heading\" href=\"http://weather.gov/news\">NEWS</a>\n",
              "<button class=\"menu-toggle pull-right\" data-target=\"#sitemap-7\" data-toggle=\"collapse\" type=\"button\">\n",
              "<span class=\"sr-only\">Toggle menu</span>\n",
              "<span class=\"icon-bar\"></span>\n",
              "<span class=\"icon-bar\"></span>\n",
              "<span class=\"icon-bar\"></span>\n",
              "</button>\n",
              "</div>\n",
              "<div class=\"sitemap-section-body panel-body collapsable collapse\" id=\"sitemap-7\">\n",
              "<ul class=\"list-unstyled\">\n",
              "<li><a href=\" http://weather.gov/news\">Newsroom</a></li>\n",
              "<li><a href=\" http://weather.gov/socialmedia\">Social Media </a></li>\n",
              "<li><a href=\"http://www.nws.noaa.gov/com/weatherreadynation/calendar.html\">Events</a></li>\n",
              "<li><a href=\" http://www.weather.gov/om/brochures.shtml\">Pubs/Brochures/Booklets </a></li>\n",
              "</ul>\n",
              "</div>\n",
              "</div>\n",
              "<div class=\"sitemap-section\">\n",
              "<div class=\"panel-heading\">\n",
              "<a class=\"sitemap-section-heading\" href=\"http://weather.gov/owlie\">EDUCATION</a>\n",
              "<button class=\"menu-toggle pull-right\" data-target=\"#sitemap-8\" data-toggle=\"collapse\" type=\"button\">\n",
              "<span class=\"sr-only\">Toggle menu</span>\n",
              "<span class=\"icon-bar\"></span>\n",
              "<span class=\"icon-bar\"></span>\n",
              "<span class=\"icon-bar\"></span>\n",
              "</button>\n",
              "</div>\n",
              "<div class=\"sitemap-section-body panel-body collapsable collapse\" id=\"sitemap-8\">\n",
              "<ul class=\"list-unstyled\">\n",
              "<li><a href=\"http://weather.gov/owlie\">NWS Education Home</a></li>\n",
              "<li><a href=\"http://www.nws.noaa.gov/com/weatherreadynation/force.html\">Be A Force of Nature</a></li>\n",
              "<li><a href=\" http://www.education.noaa.gov/Weather_and_Atmosphere/\">NOAA Education Resources </a></li>\n",
              "<li><a href=\" http://www.weather.gov/glossary/\">Glossary </a></li>\n",
              "<li><a href=\"https://www.weather.gov/jetstream/\">JetStream </a></li>\n",
              "<li><a href=\" http://www.weather.gov/training/\">NWS Training Portal </a></li>\n",
              "<li><a href=\"https://library.noaa.gov/\">NOAA Library </a></li>\n",
              "<li><a href=\"http://weather.gov/owlie\">For Students, Parents and Teachers</a></li>\n",
              "<li><a href=\"http://www.weather.gov/owlie/publication_brochures\">Brochures </a></li>\n",
              "</ul>\n",
              "</div>\n",
              "</div>\n",
              "<div class=\"sitemap-section\">\n",
              "<div class=\"panel-heading\">\n",
              "<a class=\"sitemap-section-heading\" href=\"http://weather.gov/about\">ABOUT</a>\n",
              "<button class=\"menu-toggle pull-right\" data-target=\"#sitemap-9\" data-toggle=\"collapse\" type=\"button\">\n",
              "<span class=\"sr-only\">Toggle menu</span>\n",
              "<span class=\"icon-bar\"></span>\n",
              "<span class=\"icon-bar\"></span>\n",
              "<span class=\"icon-bar\"></span>\n",
              "</button>\n",
              "</div>\n",
              "<div class=\"sitemap-section-body panel-body collapsable collapse\" id=\"sitemap-9\">\n",
              "<ul class=\"list-unstyled\">\n",
              "<li><a href=\"http://weather.gov/organization\">Organization </a></li>\n",
              "<li><a href=\"https://www.weather.gov/media/wrn/NWS_Weather-Ready-Nation_Strategic_Plan_2019-2022.pdf\">Strategic Plan </a></li>\n",
              "<li><a href=\"https://sites.google.com/a/noaa.gov/nws-best-practices/\">For NWS Employees </a></li>\n",
              "<li><a href=\"https://www.weather.gov/international/\">International </a></li>\n",
              "<li><a href=\"http://www.ncep.noaa.gov/\">National Centers </a></li>\n",
              "<li><a href=\" http://www.weather.gov/tg/\">Products and Services </a></li>\n",
              "<li><a href=\"http://www.weather.gov/careers/\">Careers</a></li>\n",
              "<li><a href=\" http://www.weather.gov/glossary/\">Glossary </a></li>\n",
              "<li><a href=\"http://weather.gov/contact\">Contact Us </a></li>\n",
              "</ul>\n",
              "</div>\n",
              "</div>\n",
              "</div>\n",
              "</div>\n",
              "</div>\n",
              "<!-- legal footer area -->\n",
              "<div class=\"footer-legal\">\n",
              "<div class=\"col-xs-12 col-sm-2 col-md-2\" id=\"footerLogo\">\n",
              "<a href=\"http://www.usa.gov\"><img alt=\"usa.gov\" height=\"30\" src=\"/css/images/usa_gov.png\" width=\"110\"/></a>\n",
              "</div>\n",
              "<div class=\"col-xs-12 col-sm-4 col-md-4\">\n",
              "<ul class=\"list-unstyled footer-legal-content\">\n",
              "<li><a href=\"http://www.commerce.gov\">US Dept of Commerce</a></li>\n",
              "<li><a href=\"http://www.noaa.gov\">National Oceanic and Atmospheric Administration</a></li>\n",
              "<li><a href=\"http://www.weather.gov\">National Weather Service</a></li>\n",
              "<li><a href=\"https://www.weather.gov/mtr\">San Francisco Bay Area, CA</a></li><li><br><a href=\"mailto:w-mtr.webmaster@noaa.gov\">Comments? Questions? Please Contact Us.</a></br></li> </ul>\n",
              "</div>\n",
              "<div class=\"col-xs-12 col-sm-3 col-md-3\">\n",
              "<ul class=\"list-unstyled\">\n",
              "<li><a href=\"https://www.weather.gov/disclaimer\">Disclaimer</a></li>\n",
              "<li><a href=\"http://www.cio.noaa.gov/services_programs/info_quality.html\">Information Quality</a></li>\n",
              "<li><a href=\"https://www.weather.gov/help\">Help</a></li>\n",
              "<li><a href=\"http://www.weather.gov/glossary\">Glossary</a></li>\n",
              "</ul>\n",
              "</div>\n",
              "<div class=\"col-xs-12 col-sm-3 col-md-3\">\n",
              "<ul class=\"list-unstyled\">\n",
              "<li><a href=\"https://www.weather.gov/privacy\">Privacy Policy</a></li>\n",
              "<li><a href=\"https://www.noaa.gov/foia-freedom-of-information-act\">Freedom of Information Act (FOIA)</a></li>\n",
              "<li><a href=\"https://www.weather.gov/about\">About Us</a></li>\n",
              "<li><a href=\"https://www.weather.gov/careers\">Career Opportunities</a></li>\n",
              "</ul>\n",
              "</div>\n",
              "</div>\n",
              "</footer>\n",
              "\n",
              "\n"
            ]
          },
          "metadata": {
            "tags": []
          },
          "execution_count": 26
        }
      ]
    },
    {
      "cell_type": "code",
      "metadata": {
        "id": "BLJwGobdQE8n"
      },
      "source": [
        "seven_day = soup.find(id=\"seven-day-forecast\")"
      ],
      "execution_count": 27,
      "outputs": []
    },
    {
      "cell_type": "code",
      "metadata": {
        "colab": {
          "base_uri": "https://localhost:8080/"
        },
        "id": "PVaYfUQiQIet",
        "outputId": "54800525-5fda-4a17-8076-d217f97036d8"
      },
      "source": [
        "seven_day"
      ],
      "execution_count": 28,
      "outputs": [
        {
          "output_type": "execute_result",
          "data": {
            "text/plain": [
              "<div class=\"panel panel-default\" id=\"seven-day-forecast\">\n",
              "<div class=\"panel-heading\">\n",
              "<b>Extended Forecast for</b>\n",
              "<h2 class=\"panel-title\">\n",
              "\t    \t    San Francisco CA\t</h2>\n",
              "</div>\n",
              "<div class=\"panel-body\" id=\"seven-day-forecast-body\">\n",
              "<div id=\"seven-day-forecast-container\"><ul class=\"list-unstyled\" id=\"seven-day-forecast-list\"><li class=\"forecast-tombstone\">\n",
              "<div class=\"tombstone-container\">\n",
              "<p class=\"period-name\">Today<br/><br/></p>\n",
              "<p><img alt=\"Today: A 20 percent chance of showers.  Mostly sunny, with a high near 56. West wind 8 to 11 mph.  New precipitation amounts of less than a tenth of an inch possible. \" class=\"forecast-icon\" src=\"newimages/medium/hi_shwrs20.png\" title=\"Today: A 20 percent chance of showers.  Mostly sunny, with a high near 56. West wind 8 to 11 mph.  New precipitation amounts of less than a tenth of an inch possible. \"/></p><p class=\"short-desc\">Slight Chance<br/>Showers</p><p class=\"temp temp-high\">High: 56 °F</p></div></li><li class=\"forecast-tombstone\">\n",
              "<div class=\"tombstone-container\">\n",
              "<p class=\"period-name\">Tonight<br/><br/></p>\n",
              "<p><img alt=\"Tonight: Mostly clear, with a low around 43. Light and variable wind becoming north northeast 5 to 9 mph in the evening. \" class=\"forecast-icon\" src=\"newimages/medium/nfew.png\" title=\"Tonight: Mostly clear, with a low around 43. Light and variable wind becoming north northeast 5 to 9 mph in the evening. \"/></p><p class=\"short-desc\">Mostly Clear</p><p class=\"temp temp-low\">Low: 43 °F</p></div></li><li class=\"forecast-tombstone\">\n",
              "<div class=\"tombstone-container\">\n",
              "<p class=\"period-name\">Thursday<br/><br/></p>\n",
              "<p><img alt=\"Thursday: Sunny, with a high near 58. Calm wind becoming north northwest around 5 mph in the afternoon. \" class=\"forecast-icon\" src=\"newimages/medium/skc.png\" title=\"Thursday: Sunny, with a high near 58. Calm wind becoming north northwest around 5 mph in the afternoon. \"/></p><p class=\"short-desc\">Sunny</p><p class=\"temp temp-high\">High: 58 °F</p></div></li><li class=\"forecast-tombstone\">\n",
              "<div class=\"tombstone-container\">\n",
              "<p class=\"period-name\">Thursday<br/>Night</p>\n",
              "<p><img alt=\"Thursday Night: Clear, with a low around 44. Calm wind. \" class=\"forecast-icon\" src=\"newimages/medium/nskc.png\" title=\"Thursday Night: Clear, with a low around 44. Calm wind. \"/></p><p class=\"short-desc\">Clear</p><p class=\"temp temp-low\">Low: 44 °F</p></div></li><li class=\"forecast-tombstone\">\n",
              "<div class=\"tombstone-container\">\n",
              "<p class=\"period-name\">Friday<br/><br/></p>\n",
              "<p><img alt=\"Friday: Sunny, with a high near 61. Calm wind becoming west around 6 mph in the afternoon. \" class=\"forecast-icon\" src=\"newimages/medium/few.png\" title=\"Friday: Sunny, with a high near 61. Calm wind becoming west around 6 mph in the afternoon. \"/></p><p class=\"short-desc\">Sunny</p><p class=\"temp temp-high\">High: 61 °F</p></div></li><li class=\"forecast-tombstone\">\n",
              "<div class=\"tombstone-container\">\n",
              "<p class=\"period-name\">Friday<br/>Night</p>\n",
              "<p><img alt=\"Friday Night: Mostly clear, with a low around 44.\" class=\"forecast-icon\" src=\"newimages/medium/nfew.png\" title=\"Friday Night: Mostly clear, with a low around 44.\"/></p><p class=\"short-desc\">Mostly Clear</p><p class=\"temp temp-low\">Low: 44 °F</p></div></li><li class=\"forecast-tombstone\">\n",
              "<div class=\"tombstone-container\">\n",
              "<p class=\"period-name\">Saturday<br/><br/></p>\n",
              "<p><img alt=\"Saturday: Sunny, with a high near 62.\" class=\"forecast-icon\" src=\"newimages/medium/few.png\" title=\"Saturday: Sunny, with a high near 62.\"/></p><p class=\"short-desc\">Sunny</p><p class=\"temp temp-high\">High: 62 °F</p></div></li><li class=\"forecast-tombstone\">\n",
              "<div class=\"tombstone-container\">\n",
              "<p class=\"period-name\">Saturday<br/>Night</p>\n",
              "<p><img alt=\"Saturday Night: Mostly clear, with a low around 45.\" class=\"forecast-icon\" src=\"newimages/medium/nfew.png\" title=\"Saturday Night: Mostly clear, with a low around 45.\"/></p><p class=\"short-desc\">Mostly Clear</p><p class=\"temp temp-low\">Low: 45 °F</p></div></li><li class=\"forecast-tombstone\">\n",
              "<div class=\"tombstone-container\">\n",
              "<p class=\"period-name\">Sunday<br/><br/></p>\n",
              "<p><img alt=\"Sunday: Mostly sunny, with a high near 62.\" class=\"forecast-icon\" src=\"newimages/medium/sct.png\" title=\"Sunday: Mostly sunny, with a high near 62.\"/></p><p class=\"short-desc\">Mostly Sunny</p><p class=\"temp temp-high\">High: 62 °F</p></div></li></ul></div>\n",
              "<script type=\"text/javascript\">\n",
              "// equalize forecast heights\n",
              "$(function () {\n",
              "\tvar maxh = 0;\n",
              "\t$(\".forecast-tombstone .short-desc\").each(function () {\n",
              "\t\tvar h = $(this).height();\n",
              "\t\tif (h > maxh) { maxh = h; }\n",
              "\t});\n",
              "\t$(\".forecast-tombstone .short-desc\").height(maxh);\n",
              "});\n",
              "</script> </div>\n",
              "</div>"
            ]
          },
          "metadata": {
            "tags": []
          },
          "execution_count": 28
        }
      ]
    },
    {
      "cell_type": "code",
      "metadata": {
        "colab": {
          "base_uri": "https://localhost:8080/"
        },
        "id": "zoguD_THQNts",
        "outputId": "87d23877-b89e-4f17-bedd-63e3e1916d85"
      },
      "source": [
        "forecast_items=seven_day.find_all(class_=\"tombstone-container\")\r\n",
        "forecast_items"
      ],
      "execution_count": 29,
      "outputs": [
        {
          "output_type": "execute_result",
          "data": {
            "text/plain": [
              "[<div class=\"tombstone-container\">\n",
              " <p class=\"period-name\">Today<br/><br/></p>\n",
              " <p><img alt=\"Today: A 20 percent chance of showers.  Mostly sunny, with a high near 56. West wind 8 to 11 mph.  New precipitation amounts of less than a tenth of an inch possible. \" class=\"forecast-icon\" src=\"newimages/medium/hi_shwrs20.png\" title=\"Today: A 20 percent chance of showers.  Mostly sunny, with a high near 56. West wind 8 to 11 mph.  New precipitation amounts of less than a tenth of an inch possible. \"/></p><p class=\"short-desc\">Slight Chance<br/>Showers</p><p class=\"temp temp-high\">High: 56 °F</p></div>,\n",
              " <div class=\"tombstone-container\">\n",
              " <p class=\"period-name\">Tonight<br/><br/></p>\n",
              " <p><img alt=\"Tonight: Mostly clear, with a low around 43. Light and variable wind becoming north northeast 5 to 9 mph in the evening. \" class=\"forecast-icon\" src=\"newimages/medium/nfew.png\" title=\"Tonight: Mostly clear, with a low around 43. Light and variable wind becoming north northeast 5 to 9 mph in the evening. \"/></p><p class=\"short-desc\">Mostly Clear</p><p class=\"temp temp-low\">Low: 43 °F</p></div>,\n",
              " <div class=\"tombstone-container\">\n",
              " <p class=\"period-name\">Thursday<br/><br/></p>\n",
              " <p><img alt=\"Thursday: Sunny, with a high near 58. Calm wind becoming north northwest around 5 mph in the afternoon. \" class=\"forecast-icon\" src=\"newimages/medium/skc.png\" title=\"Thursday: Sunny, with a high near 58. Calm wind becoming north northwest around 5 mph in the afternoon. \"/></p><p class=\"short-desc\">Sunny</p><p class=\"temp temp-high\">High: 58 °F</p></div>,\n",
              " <div class=\"tombstone-container\">\n",
              " <p class=\"period-name\">Thursday<br/>Night</p>\n",
              " <p><img alt=\"Thursday Night: Clear, with a low around 44. Calm wind. \" class=\"forecast-icon\" src=\"newimages/medium/nskc.png\" title=\"Thursday Night: Clear, with a low around 44. Calm wind. \"/></p><p class=\"short-desc\">Clear</p><p class=\"temp temp-low\">Low: 44 °F</p></div>,\n",
              " <div class=\"tombstone-container\">\n",
              " <p class=\"period-name\">Friday<br/><br/></p>\n",
              " <p><img alt=\"Friday: Sunny, with a high near 61. Calm wind becoming west around 6 mph in the afternoon. \" class=\"forecast-icon\" src=\"newimages/medium/few.png\" title=\"Friday: Sunny, with a high near 61. Calm wind becoming west around 6 mph in the afternoon. \"/></p><p class=\"short-desc\">Sunny</p><p class=\"temp temp-high\">High: 61 °F</p></div>,\n",
              " <div class=\"tombstone-container\">\n",
              " <p class=\"period-name\">Friday<br/>Night</p>\n",
              " <p><img alt=\"Friday Night: Mostly clear, with a low around 44.\" class=\"forecast-icon\" src=\"newimages/medium/nfew.png\" title=\"Friday Night: Mostly clear, with a low around 44.\"/></p><p class=\"short-desc\">Mostly Clear</p><p class=\"temp temp-low\">Low: 44 °F</p></div>,\n",
              " <div class=\"tombstone-container\">\n",
              " <p class=\"period-name\">Saturday<br/><br/></p>\n",
              " <p><img alt=\"Saturday: Sunny, with a high near 62.\" class=\"forecast-icon\" src=\"newimages/medium/few.png\" title=\"Saturday: Sunny, with a high near 62.\"/></p><p class=\"short-desc\">Sunny</p><p class=\"temp temp-high\">High: 62 °F</p></div>,\n",
              " <div class=\"tombstone-container\">\n",
              " <p class=\"period-name\">Saturday<br/>Night</p>\n",
              " <p><img alt=\"Saturday Night: Mostly clear, with a low around 45.\" class=\"forecast-icon\" src=\"newimages/medium/nfew.png\" title=\"Saturday Night: Mostly clear, with a low around 45.\"/></p><p class=\"short-desc\">Mostly Clear</p><p class=\"temp temp-low\">Low: 45 °F</p></div>,\n",
              " <div class=\"tombstone-container\">\n",
              " <p class=\"period-name\">Sunday<br/><br/></p>\n",
              " <p><img alt=\"Sunday: Mostly sunny, with a high near 62.\" class=\"forecast-icon\" src=\"newimages/medium/sct.png\" title=\"Sunday: Mostly sunny, with a high near 62.\"/></p><p class=\"short-desc\">Mostly Sunny</p><p class=\"temp temp-high\">High: 62 °F</p></div>]"
            ]
          },
          "metadata": {
            "tags": []
          },
          "execution_count": 29
        }
      ]
    },
    {
      "cell_type": "code",
      "metadata": {
        "colab": {
          "base_uri": "https://localhost:8080/"
        },
        "id": "fM1BDyAbR0Ko",
        "outputId": "92bc1048-ad78-4a1c-c612-d52dd4f2b5ee"
      },
      "source": [
        "tonight=forecast_items[0]\r\n",
        "tonight"
      ],
      "execution_count": 31,
      "outputs": [
        {
          "output_type": "execute_result",
          "data": {
            "text/plain": [
              "<div class=\"tombstone-container\">\n",
              "<p class=\"period-name\">Today<br/><br/></p>\n",
              "<p><img alt=\"Today: A 20 percent chance of showers.  Mostly sunny, with a high near 56. West wind 8 to 11 mph.  New precipitation amounts of less than a tenth of an inch possible. \" class=\"forecast-icon\" src=\"newimages/medium/hi_shwrs20.png\" title=\"Today: A 20 percent chance of showers.  Mostly sunny, with a high near 56. West wind 8 to 11 mph.  New precipitation amounts of less than a tenth of an inch possible. \"/></p><p class=\"short-desc\">Slight Chance<br/>Showers</p><p class=\"temp temp-high\">High: 56 °F</p></div>"
            ]
          },
          "metadata": {
            "tags": []
          },
          "execution_count": 31
        }
      ]
    },
    {
      "cell_type": "code",
      "metadata": {
        "colab": {
          "base_uri": "https://localhost:8080/"
        },
        "id": "IfCTixUbSAll",
        "outputId": "fa608014-8f2f-44ad-e89e-f778d165c81e"
      },
      "source": [
        "print(tonight.prettify())"
      ],
      "execution_count": 32,
      "outputs": [
        {
          "output_type": "stream",
          "text": [
            "<div class=\"tombstone-container\">\n",
            " <p class=\"period-name\">\n",
            "  Today\n",
            "  <br/>\n",
            "  <br/>\n",
            " </p>\n",
            " <p>\n",
            "  <img alt=\"Today: A 20 percent chance of showers.  Mostly sunny, with a high near 56. West wind 8 to 11 mph.  New precipitation amounts of less than a tenth of an inch possible. \" class=\"forecast-icon\" src=\"newimages/medium/hi_shwrs20.png\" title=\"Today: A 20 percent chance of showers.  Mostly sunny, with a high near 56. West wind 8 to 11 mph.  New precipitation amounts of less than a tenth of an inch possible. \"/>\n",
            " </p>\n",
            " <p class=\"short-desc\">\n",
            "  Slight Chance\n",
            "  <br/>\n",
            "  Showers\n",
            " </p>\n",
            " <p class=\"temp temp-high\">\n",
            "  High: 56 °F\n",
            " </p>\n",
            "</div>\n"
          ],
          "name": "stdout"
        }
      ]
    },
    {
      "cell_type": "code",
      "metadata": {
        "colab": {
          "base_uri": "https://localhost:8080/",
          "height": 35
        },
        "id": "9otD3ruxSSAR",
        "outputId": "398fc4cd-229c-42ea-ea27-624c03d89ea1"
      },
      "source": [
        "period=tonight.find(class_=\"period-name\").get_text()\r\n",
        "period"
      ],
      "execution_count": 33,
      "outputs": [
        {
          "output_type": "execute_result",
          "data": {
            "application/vnd.google.colaboratory.intrinsic+json": {
              "type": "string"
            },
            "text/plain": [
              "'Today'"
            ]
          },
          "metadata": {
            "tags": []
          },
          "execution_count": 33
        }
      ]
    },
    {
      "cell_type": "code",
      "metadata": {
        "colab": {
          "base_uri": "https://localhost:8080/",
          "height": 35
        },
        "id": "IuzTgfmaS3Mc",
        "outputId": "a971f726-9c55-453b-818d-088a75893548"
      },
      "source": [
        "short_desc=tonight.find(class_=\"short-desc\").get_text()\r\n",
        "short_desc"
      ],
      "execution_count": 34,
      "outputs": [
        {
          "output_type": "execute_result",
          "data": {
            "application/vnd.google.colaboratory.intrinsic+json": {
              "type": "string"
            },
            "text/plain": [
              "'Slight ChanceShowers'"
            ]
          },
          "metadata": {
            "tags": []
          },
          "execution_count": 34
        }
      ]
    },
    {
      "cell_type": "code",
      "metadata": {
        "colab": {
          "base_uri": "https://localhost:8080/",
          "height": 35
        },
        "id": "F24QkmZ1TKGK",
        "outputId": "af7543c0-891a-4322-d966-cedeb30c89f8"
      },
      "source": [
        "temp=tonight.find(class_=\"temp\").get_text()\r\n",
        "temp"
      ],
      "execution_count": 35,
      "outputs": [
        {
          "output_type": "execute_result",
          "data": {
            "application/vnd.google.colaboratory.intrinsic+json": {
              "type": "string"
            },
            "text/plain": [
              "'High: 56 °F'"
            ]
          },
          "metadata": {
            "tags": []
          },
          "execution_count": 35
        }
      ]
    },
    {
      "cell_type": "code",
      "metadata": {
        "colab": {
          "base_uri": "https://localhost:8080/"
        },
        "id": "jziCiEtITWxX",
        "outputId": "4f1d792d-5220-4ef1-b1a6-f23d2d23398d"
      },
      "source": [
        "img=tonight.find(\"img\")\r\n",
        "img"
      ],
      "execution_count": 38,
      "outputs": [
        {
          "output_type": "execute_result",
          "data": {
            "text/plain": [
              "<img alt=\"Today: A 20 percent chance of showers.  Mostly sunny, with a high near 56. West wind 8 to 11 mph.  New precipitation amounts of less than a tenth of an inch possible. \" class=\"forecast-icon\" src=\"newimages/medium/hi_shwrs20.png\" title=\"Today: A 20 percent chance of showers.  Mostly sunny, with a high near 56. West wind 8 to 11 mph.  New precipitation amounts of less than a tenth of an inch possible. \"/>"
            ]
          },
          "metadata": {
            "tags": []
          },
          "execution_count": 38
        }
      ]
    },
    {
      "cell_type": "code",
      "metadata": {
        "colab": {
          "base_uri": "https://localhost:8080/",
          "height": 70
        },
        "id": "heFVzfn0Tmdp",
        "outputId": "5dcd323a-a7f6-48cb-b115-f0037ab4d0c5"
      },
      "source": [
        "desc=img['title']\r\n",
        "desc\r\n"
      ],
      "execution_count": 39,
      "outputs": [
        {
          "output_type": "execute_result",
          "data": {
            "application/vnd.google.colaboratory.intrinsic+json": {
              "type": "string"
            },
            "text/plain": [
              "'Today: A 20 percent chance of showers.  Mostly sunny, with a high near 56. West wind 8 to 11 mph.  New precipitation amounts of less than a tenth of an inch possible. '"
            ]
          },
          "metadata": {
            "tags": []
          },
          "execution_count": 39
        }
      ]
    },
    {
      "cell_type": "code",
      "metadata": {
        "colab": {
          "base_uri": "https://localhost:8080/"
        },
        "id": "GHsQqKNKTpTP",
        "outputId": "47920036-acc9-4b39-c43c-4becb0d059dc"
      },
      "source": [
        "period_tags = seven_day.select(\".tombstone-container .period-name\")\r\n",
        "periods = [pt.get_text() for pt in period_tags]\r\n",
        "periods"
      ],
      "execution_count": 40,
      "outputs": [
        {
          "output_type": "execute_result",
          "data": {
            "text/plain": [
              "['Today',\n",
              " 'Tonight',\n",
              " 'Thursday',\n",
              " 'ThursdayNight',\n",
              " 'Friday',\n",
              " 'FridayNight',\n",
              " 'Saturday',\n",
              " 'SaturdayNight',\n",
              " 'Sunday']"
            ]
          },
          "metadata": {
            "tags": []
          },
          "execution_count": 40
        }
      ]
    },
    {
      "cell_type": "code",
      "metadata": {
        "id": "SPodxjf9UeH3"
      },
      "source": [
        "short_descs = [sd.get_text() for sd in seven_day.select(\".tombstone-container .short-desc\")]\r\n",
        "temps = [t.get_text() for t in seven_day.select(\".tombstone-container .temp\")]\r\n",
        "descs = [d[\"title\"] for d in seven_day.select(\".tombstone-container img\")]"
      ],
      "execution_count": 42,
      "outputs": []
    },
    {
      "cell_type": "code",
      "metadata": {
        "colab": {
          "base_uri": "https://localhost:8080/"
        },
        "id": "CMNY1NhQUjLM",
        "outputId": "93897152-944c-47aa-bcde-9453bd0effb6"
      },
      "source": [
        "short_descs"
      ],
      "execution_count": 43,
      "outputs": [
        {
          "output_type": "execute_result",
          "data": {
            "text/plain": [
              "['Slight ChanceShowers',\n",
              " 'Mostly Clear',\n",
              " 'Sunny',\n",
              " 'Clear',\n",
              " 'Sunny',\n",
              " 'Mostly Clear',\n",
              " 'Sunny',\n",
              " 'Mostly Clear',\n",
              " 'Mostly Sunny']"
            ]
          },
          "metadata": {
            "tags": []
          },
          "execution_count": 43
        }
      ]
    },
    {
      "cell_type": "code",
      "metadata": {
        "colab": {
          "base_uri": "https://localhost:8080/"
        },
        "id": "T-pgF7BIUpSZ",
        "outputId": "e1660df6-74d9-4067-bd44-7e4ca32e4796"
      },
      "source": [
        "temps"
      ],
      "execution_count": 44,
      "outputs": [
        {
          "output_type": "execute_result",
          "data": {
            "text/plain": [
              "['High: 56 °F',\n",
              " 'Low: 43 °F',\n",
              " 'High: 58 °F',\n",
              " 'Low: 44 °F',\n",
              " 'High: 61 °F',\n",
              " 'Low: 44 °F',\n",
              " 'High: 62 °F',\n",
              " 'Low: 45 °F',\n",
              " 'High: 62 °F']"
            ]
          },
          "metadata": {
            "tags": []
          },
          "execution_count": 44
        }
      ]
    },
    {
      "cell_type": "code",
      "metadata": {
        "colab": {
          "base_uri": "https://localhost:8080/"
        },
        "id": "xJmAqDOZUrci",
        "outputId": "631ac68d-307a-4a10-f1bf-86f63e424f10"
      },
      "source": [
        "descs"
      ],
      "execution_count": 45,
      "outputs": [
        {
          "output_type": "execute_result",
          "data": {
            "text/plain": [
              "['Today: A 20 percent chance of showers.  Mostly sunny, with a high near 56. West wind 8 to 11 mph.  New precipitation amounts of less than a tenth of an inch possible. ',\n",
              " 'Tonight: Mostly clear, with a low around 43. Light and variable wind becoming north northeast 5 to 9 mph in the evening. ',\n",
              " 'Thursday: Sunny, with a high near 58. Calm wind becoming north northwest around 5 mph in the afternoon. ',\n",
              " 'Thursday Night: Clear, with a low around 44. Calm wind. ',\n",
              " 'Friday: Sunny, with a high near 61. Calm wind becoming west around 6 mph in the afternoon. ',\n",
              " 'Friday Night: Mostly clear, with a low around 44.',\n",
              " 'Saturday: Sunny, with a high near 62.',\n",
              " 'Saturday Night: Mostly clear, with a low around 45.',\n",
              " 'Sunday: Mostly sunny, with a high near 62.']"
            ]
          },
          "metadata": {
            "tags": []
          },
          "execution_count": 45
        }
      ]
    },
    {
      "cell_type": "code",
      "metadata": {
        "id": "96LbC35EUsX7"
      },
      "source": [
        "import pandas as pd"
      ],
      "execution_count": 46,
      "outputs": []
    },
    {
      "cell_type": "code",
      "metadata": {
        "colab": {
          "base_uri": "https://localhost:8080/",
          "height": 465
        },
        "id": "9PYR3ObbUv1S",
        "outputId": "3bb07032-f49a-4976-9031-de0b06423af9"
      },
      "source": [
        "import pandas as pd\r\n",
        "weather = pd.DataFrame({\r\n",
        "    \"period\": periods,\r\n",
        "    \"short_desc\": short_descs,\r\n",
        "    \"temp\": temps,\r\n",
        "    \"desc\":descs\r\n",
        "})\r\n",
        "weather"
      ],
      "execution_count": 47,
      "outputs": [
        {
          "output_type": "execute_result",
          "data": {
            "text/html": [
              "<div>\n",
              "<style scoped>\n",
              "    .dataframe tbody tr th:only-of-type {\n",
              "        vertical-align: middle;\n",
              "    }\n",
              "\n",
              "    .dataframe tbody tr th {\n",
              "        vertical-align: top;\n",
              "    }\n",
              "\n",
              "    .dataframe thead th {\n",
              "        text-align: right;\n",
              "    }\n",
              "</style>\n",
              "<table border=\"1\" class=\"dataframe\">\n",
              "  <thead>\n",
              "    <tr style=\"text-align: right;\">\n",
              "      <th></th>\n",
              "      <th>period</th>\n",
              "      <th>short_desc</th>\n",
              "      <th>temp</th>\n",
              "      <th>desc</th>\n",
              "    </tr>\n",
              "  </thead>\n",
              "  <tbody>\n",
              "    <tr>\n",
              "      <th>0</th>\n",
              "      <td>Today</td>\n",
              "      <td>Slight ChanceShowers</td>\n",
              "      <td>High: 56 °F</td>\n",
              "      <td>Today: A 20 percent chance of showers.  Mostly...</td>\n",
              "    </tr>\n",
              "    <tr>\n",
              "      <th>1</th>\n",
              "      <td>Tonight</td>\n",
              "      <td>Mostly Clear</td>\n",
              "      <td>Low: 43 °F</td>\n",
              "      <td>Tonight: Mostly clear, with a low around 43. L...</td>\n",
              "    </tr>\n",
              "    <tr>\n",
              "      <th>2</th>\n",
              "      <td>Thursday</td>\n",
              "      <td>Sunny</td>\n",
              "      <td>High: 58 °F</td>\n",
              "      <td>Thursday: Sunny, with a high near 58. Calm win...</td>\n",
              "    </tr>\n",
              "    <tr>\n",
              "      <th>3</th>\n",
              "      <td>ThursdayNight</td>\n",
              "      <td>Clear</td>\n",
              "      <td>Low: 44 °F</td>\n",
              "      <td>Thursday Night: Clear, with a low around 44. C...</td>\n",
              "    </tr>\n",
              "    <tr>\n",
              "      <th>4</th>\n",
              "      <td>Friday</td>\n",
              "      <td>Sunny</td>\n",
              "      <td>High: 61 °F</td>\n",
              "      <td>Friday: Sunny, with a high near 61. Calm wind ...</td>\n",
              "    </tr>\n",
              "    <tr>\n",
              "      <th>5</th>\n",
              "      <td>FridayNight</td>\n",
              "      <td>Mostly Clear</td>\n",
              "      <td>Low: 44 °F</td>\n",
              "      <td>Friday Night: Mostly clear, with a low around 44.</td>\n",
              "    </tr>\n",
              "    <tr>\n",
              "      <th>6</th>\n",
              "      <td>Saturday</td>\n",
              "      <td>Sunny</td>\n",
              "      <td>High: 62 °F</td>\n",
              "      <td>Saturday: Sunny, with a high near 62.</td>\n",
              "    </tr>\n",
              "    <tr>\n",
              "      <th>7</th>\n",
              "      <td>SaturdayNight</td>\n",
              "      <td>Mostly Clear</td>\n",
              "      <td>Low: 45 °F</td>\n",
              "      <td>Saturday Night: Mostly clear, with a low aroun...</td>\n",
              "    </tr>\n",
              "    <tr>\n",
              "      <th>8</th>\n",
              "      <td>Sunday</td>\n",
              "      <td>Mostly Sunny</td>\n",
              "      <td>High: 62 °F</td>\n",
              "      <td>Sunday: Mostly sunny, with a high near 62.</td>\n",
              "    </tr>\n",
              "  </tbody>\n",
              "</table>\n",
              "</div>"
            ],
            "text/plain": [
              "          period  ...                                               desc\n",
              "0          Today  ...  Today: A 20 percent chance of showers.  Mostly...\n",
              "1        Tonight  ...  Tonight: Mostly clear, with a low around 43. L...\n",
              "2       Thursday  ...  Thursday: Sunny, with a high near 58. Calm win...\n",
              "3  ThursdayNight  ...  Thursday Night: Clear, with a low around 44. C...\n",
              "4         Friday  ...  Friday: Sunny, with a high near 61. Calm wind ...\n",
              "5    FridayNight  ...  Friday Night: Mostly clear, with a low around 44.\n",
              "6       Saturday  ...              Saturday: Sunny, with a high near 62.\n",
              "7  SaturdayNight  ...  Saturday Night: Mostly clear, with a low aroun...\n",
              "8         Sunday  ...         Sunday: Mostly sunny, with a high near 62.\n",
              "\n",
              "[9 rows x 4 columns]"
            ]
          },
          "metadata": {
            "tags": []
          },
          "execution_count": 47
        }
      ]
    },
    {
      "cell_type": "code",
      "metadata": {
        "id": "CdLwEUgRU6dD"
      },
      "source": [
        ""
      ],
      "execution_count": null,
      "outputs": []
    }
  ]
}